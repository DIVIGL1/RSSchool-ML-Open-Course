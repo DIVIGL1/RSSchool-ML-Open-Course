{
 "cells": [
  {
   "cell_type": "markdown",
   "metadata": {},
   "source": [
    "# Introduction"
   ]
  },
  {
   "cell_type": "markdown",
   "metadata": {},
   "source": [
    "Fortunately, with libraries such as Scikit-Learn, it’s now easy to build and use almost any machine learning algorithm. But it’s helpful to have an idea of how a machine learning model works under the hood. This lets us diagnose the model when it’s underperforming or explain how it makes decisions, which is crucial if we want to convince others to trust our models.\n",
    "In this assignment, we’ll look at how to build and use the Decision Tree and the Random Forest in Python. We’ll start by understanding how a single decision tree makes classifications on a simple problem. Then, we’ll work our way to using a random forest on a real-world data science problem."
   ]
  },
  {
   "cell_type": "markdown",
   "metadata": {},
   "source": [
    "# Dataset"
   ]
  },
  {
   "cell_type": "markdown",
   "metadata": {},
   "source": [
    "The dataset we will use in this assignment is the Sonar dataset.\n",
    "\n",
    "This is a dataset that describes sonar chirp returns bouncing off different surfaces. The 60 predictors are the strength of the returns at different angles. It is a binary classification problem that requires a model to differentiate rocks from metal cylinders. There are 208 observations.\n",
    "\n",
    "It is a well-understood dataset. All of the variables are continuous and generally in the range of 0 to 1. The output variable is a string “M” for mine and “R” for rock, which will need to be converted to integers 1 and 0.\n",
    "\n",
    "By predicting the class with the most observations in the dataset (M or mines) the Zero Rule Algorithm can achieve an accuracy of 53%.\n",
    "\n",
    "You can learn more about this dataset at the UCI Machine Learning repository.\n",
    "https://archive.ics.uci.edu/ml/datasets/Connectionist+Bench+(Sonar,+Mines+vs.+Rocks)\n",
    "\n",
    "Download the dataset for free and place it in the \"data\" folder in your working directory with the filename sonar.all-data.csv."
   ]
  },
  {
   "cell_type": "markdown",
   "metadata": {},
   "source": [
    "# Import section"
   ]
  },
  {
   "cell_type": "code",
   "execution_count": 1,
   "metadata": {
    "ExecuteTime": {
     "end_time": "2022-01-17T20:27:52.137523Z",
     "start_time": "2022-01-17T20:27:51.210945Z"
    }
   },
   "outputs": [],
   "source": [
    "import numpy as np\n",
    "import pandas as pd\n",
    "import matplotlib.pyplot as plt\n",
    "import seaborn as sns\n",
    "from sklearn.model_selection import train_test_split\n",
    "from sklearn.metrics import accuracy_score"
   ]
  },
  {
   "cell_type": "code",
   "execution_count": 2,
   "metadata": {},
   "outputs": [],
   "source": [
    "from sklearn.base import BaseEstimator, ClassifierMixin\n",
    "from sklearn.model_selection import GridSearchCV\n",
    "from sklearn.model_selection import RandomizedSearchCV\n",
    "from sklearn.preprocessing import OneHotEncoder\n",
    "from sklearn.tree import DecisionTreeClassifier\n",
    "from sklearn import tree\n",
    "import os"
   ]
  },
  {
   "cell_type": "code",
   "execution_count": 3,
   "metadata": {
    "ExecuteTime": {
     "end_time": "2022-01-17T20:27:52.153537Z",
     "start_time": "2022-01-17T20:27:52.139489Z"
    }
   },
   "outputs": [],
   "source": [
    "import tests"
   ]
  },
  {
   "cell_type": "code",
   "execution_count": 4,
   "metadata": {
    "ExecuteTime": {
     "end_time": "2022-01-17T20:27:52.169411Z",
     "start_time": "2022-01-17T20:27:52.156443Z"
    }
   },
   "outputs": [],
   "source": [
    "RANDOM_STATE = 2020"
   ]
  },
  {
   "cell_type": "code",
   "execution_count": 5,
   "metadata": {},
   "outputs": [],
   "source": [
    "def p(color=\"\", bold=0):\n",
    "    color = color.lower().replace(\" \", \"\")\n",
    "    if color == \"black\" or color == \"\":\n",
    "        color = \"\\033[0m\"\n",
    "    elif color == \"green\" or color == \"g\":\n",
    "        color = \"\\033[92m\"\n",
    "    elif color == \"gray\" or color == \"gr\":\n",
    "        color = \"\\033[90m\"\n",
    "    elif color == \"red\" or color == \"r\":\n",
    "        color = \"\\033[91m\"\n",
    "    elif color == \"blue\" or color == \"b\":\n",
    "        color = \"\\033[94m\"\n",
    "    else:\n",
    "        color = \"\"\n",
    "    \n",
    "    if bold == 1:\n",
    "        color += \"\\033[1m\"\n",
    "\n",
    "    return (color)"
   ]
  },
  {
   "cell_type": "markdown",
   "metadata": {},
   "source": [
    "# Preprocess data"
   ]
  },
  {
   "cell_type": "markdown",
   "metadata": {},
   "source": [
    "Read data and convert targets to integers 1 and 0."
   ]
  },
  {
   "cell_type": "code",
   "execution_count": 6,
   "metadata": {
    "ExecuteTime": {
     "end_time": "2022-01-17T20:27:52.216149Z",
     "start_time": "2022-01-17T20:27:52.171403Z"
    }
   },
   "outputs": [
    {
     "data": {
      "text/html": [
       "<div>\n",
       "<style scoped>\n",
       "    .dataframe tbody tr th:only-of-type {\n",
       "        vertical-align: middle;\n",
       "    }\n",
       "\n",
       "    .dataframe tbody tr th {\n",
       "        vertical-align: top;\n",
       "    }\n",
       "\n",
       "    .dataframe thead th {\n",
       "        text-align: right;\n",
       "    }\n",
       "</style>\n",
       "<table border=\"1\" class=\"dataframe\">\n",
       "  <thead>\n",
       "    <tr style=\"text-align: right;\">\n",
       "      <th></th>\n",
       "      <th>feat_0</th>\n",
       "      <th>feat_1</th>\n",
       "      <th>feat_2</th>\n",
       "      <th>feat_3</th>\n",
       "      <th>feat_4</th>\n",
       "      <th>feat_5</th>\n",
       "      <th>feat_6</th>\n",
       "      <th>feat_7</th>\n",
       "      <th>feat_8</th>\n",
       "      <th>feat_9</th>\n",
       "      <th>...</th>\n",
       "      <th>feat_51</th>\n",
       "      <th>feat_52</th>\n",
       "      <th>feat_53</th>\n",
       "      <th>feat_54</th>\n",
       "      <th>feat_55</th>\n",
       "      <th>feat_56</th>\n",
       "      <th>feat_57</th>\n",
       "      <th>feat_58</th>\n",
       "      <th>feat_59</th>\n",
       "      <th>target</th>\n",
       "    </tr>\n",
       "  </thead>\n",
       "  <tbody>\n",
       "    <tr>\n",
       "      <th>0</th>\n",
       "      <td>0.0200</td>\n",
       "      <td>0.0371</td>\n",
       "      <td>0.0428</td>\n",
       "      <td>0.0207</td>\n",
       "      <td>0.0954</td>\n",
       "      <td>0.0986</td>\n",
       "      <td>0.1539</td>\n",
       "      <td>0.1601</td>\n",
       "      <td>0.3109</td>\n",
       "      <td>0.2111</td>\n",
       "      <td>...</td>\n",
       "      <td>0.0027</td>\n",
       "      <td>0.0065</td>\n",
       "      <td>0.0159</td>\n",
       "      <td>0.0072</td>\n",
       "      <td>0.0167</td>\n",
       "      <td>0.0180</td>\n",
       "      <td>0.0084</td>\n",
       "      <td>0.0090</td>\n",
       "      <td>0.0032</td>\n",
       "      <td>0</td>\n",
       "    </tr>\n",
       "    <tr>\n",
       "      <th>1</th>\n",
       "      <td>0.0453</td>\n",
       "      <td>0.0523</td>\n",
       "      <td>0.0843</td>\n",
       "      <td>0.0689</td>\n",
       "      <td>0.1183</td>\n",
       "      <td>0.2583</td>\n",
       "      <td>0.2156</td>\n",
       "      <td>0.3481</td>\n",
       "      <td>0.3337</td>\n",
       "      <td>0.2872</td>\n",
       "      <td>...</td>\n",
       "      <td>0.0084</td>\n",
       "      <td>0.0089</td>\n",
       "      <td>0.0048</td>\n",
       "      <td>0.0094</td>\n",
       "      <td>0.0191</td>\n",
       "      <td>0.0140</td>\n",
       "      <td>0.0049</td>\n",
       "      <td>0.0052</td>\n",
       "      <td>0.0044</td>\n",
       "      <td>0</td>\n",
       "    </tr>\n",
       "    <tr>\n",
       "      <th>2</th>\n",
       "      <td>0.0262</td>\n",
       "      <td>0.0582</td>\n",
       "      <td>0.1099</td>\n",
       "      <td>0.1083</td>\n",
       "      <td>0.0974</td>\n",
       "      <td>0.2280</td>\n",
       "      <td>0.2431</td>\n",
       "      <td>0.3771</td>\n",
       "      <td>0.5598</td>\n",
       "      <td>0.6194</td>\n",
       "      <td>...</td>\n",
       "      <td>0.0232</td>\n",
       "      <td>0.0166</td>\n",
       "      <td>0.0095</td>\n",
       "      <td>0.0180</td>\n",
       "      <td>0.0244</td>\n",
       "      <td>0.0316</td>\n",
       "      <td>0.0164</td>\n",
       "      <td>0.0095</td>\n",
       "      <td>0.0078</td>\n",
       "      <td>0</td>\n",
       "    </tr>\n",
       "    <tr>\n",
       "      <th>3</th>\n",
       "      <td>0.0100</td>\n",
       "      <td>0.0171</td>\n",
       "      <td>0.0623</td>\n",
       "      <td>0.0205</td>\n",
       "      <td>0.0205</td>\n",
       "      <td>0.0368</td>\n",
       "      <td>0.1098</td>\n",
       "      <td>0.1276</td>\n",
       "      <td>0.0598</td>\n",
       "      <td>0.1264</td>\n",
       "      <td>...</td>\n",
       "      <td>0.0121</td>\n",
       "      <td>0.0036</td>\n",
       "      <td>0.0150</td>\n",
       "      <td>0.0085</td>\n",
       "      <td>0.0073</td>\n",
       "      <td>0.0050</td>\n",
       "      <td>0.0044</td>\n",
       "      <td>0.0040</td>\n",
       "      <td>0.0117</td>\n",
       "      <td>0</td>\n",
       "    </tr>\n",
       "    <tr>\n",
       "      <th>4</th>\n",
       "      <td>0.0762</td>\n",
       "      <td>0.0666</td>\n",
       "      <td>0.0481</td>\n",
       "      <td>0.0394</td>\n",
       "      <td>0.0590</td>\n",
       "      <td>0.0649</td>\n",
       "      <td>0.1209</td>\n",
       "      <td>0.2467</td>\n",
       "      <td>0.3564</td>\n",
       "      <td>0.4459</td>\n",
       "      <td>...</td>\n",
       "      <td>0.0031</td>\n",
       "      <td>0.0054</td>\n",
       "      <td>0.0105</td>\n",
       "      <td>0.0110</td>\n",
       "      <td>0.0015</td>\n",
       "      <td>0.0072</td>\n",
       "      <td>0.0048</td>\n",
       "      <td>0.0107</td>\n",
       "      <td>0.0094</td>\n",
       "      <td>0</td>\n",
       "    </tr>\n",
       "  </tbody>\n",
       "</table>\n",
       "<p>5 rows × 61 columns</p>\n",
       "</div>"
      ],
      "text/plain": [
       "   feat_0  feat_1  feat_2  feat_3  feat_4  feat_5  feat_6  feat_7  feat_8  \\\n",
       "0  0.0200  0.0371  0.0428  0.0207  0.0954  0.0986  0.1539  0.1601  0.3109   \n",
       "1  0.0453  0.0523  0.0843  0.0689  0.1183  0.2583  0.2156  0.3481  0.3337   \n",
       "2  0.0262  0.0582  0.1099  0.1083  0.0974  0.2280  0.2431  0.3771  0.5598   \n",
       "3  0.0100  0.0171  0.0623  0.0205  0.0205  0.0368  0.1098  0.1276  0.0598   \n",
       "4  0.0762  0.0666  0.0481  0.0394  0.0590  0.0649  0.1209  0.2467  0.3564   \n",
       "\n",
       "   feat_9  ...  feat_51  feat_52  feat_53  feat_54  feat_55  feat_56  feat_57  \\\n",
       "0  0.2111  ...   0.0027   0.0065   0.0159   0.0072   0.0167   0.0180   0.0084   \n",
       "1  0.2872  ...   0.0084   0.0089   0.0048   0.0094   0.0191   0.0140   0.0049   \n",
       "2  0.6194  ...   0.0232   0.0166   0.0095   0.0180   0.0244   0.0316   0.0164   \n",
       "3  0.1264  ...   0.0121   0.0036   0.0150   0.0085   0.0073   0.0050   0.0044   \n",
       "4  0.4459  ...   0.0031   0.0054   0.0105   0.0110   0.0015   0.0072   0.0048   \n",
       "\n",
       "   feat_58  feat_59  target  \n",
       "0   0.0090   0.0032       0  \n",
       "1   0.0052   0.0044       0  \n",
       "2   0.0095   0.0078       0  \n",
       "3   0.0040   0.0117       0  \n",
       "4   0.0107   0.0094       0  \n",
       "\n",
       "[5 rows x 61 columns]"
      ]
     },
     "execution_count": 6,
     "metadata": {},
     "output_type": "execute_result"
    }
   ],
   "source": [
    "PATH = 'data/'\n",
    "df = pd.read_csv(PATH+'sonar-all-data.csv', header=None)\n",
    "df.columns = [f'feat_{col}' if col!=60 else 'target' for col in df.columns]\n",
    "df['target'] = df['target'].map({'M': 1, 'R': 0})\n",
    "df.head()"
   ]
  },
  {
   "cell_type": "markdown",
   "metadata": {},
   "source": [
    "# Split data (train and test)"
   ]
  },
  {
   "cell_type": "code",
   "execution_count": 7,
   "metadata": {
    "ExecuteTime": {
     "end_time": "2022-01-17T20:27:52.230836Z",
     "start_time": "2022-01-17T20:27:52.217831Z"
    }
   },
   "outputs": [],
   "source": [
    "X_train, X_test, y_train, y_test = train_test_split(df.drop(columns='target'), df['target'], test_size=0.2, random_state=RANDOM_STATE)"
   ]
  },
  {
   "cell_type": "markdown",
   "metadata": {},
   "source": [
    "# Homework part 1. Implementation of Random Forest Classifier."
   ]
  },
  {
   "cell_type": "markdown",
   "metadata": {},
   "source": [
    "## Splitting criteria"
   ]
  },
  {
   "cell_type": "markdown",
   "metadata": {},
   "source": [
    "**Task 1 - 2 points.** In this section you should implement two criteria for splitting of the feature space. Any of these can be used in the model."
   ]
  },
  {
   "cell_type": "markdown",
   "metadata": {},
   "source": [
    "### Gini index"
   ]
  },
  {
   "cell_type": "markdown",
   "metadata": {},
   "source": [
    "0.5 points for *gini_index* function"
   ]
  },
  {
   "cell_type": "code",
   "execution_count": 8,
   "metadata": {
    "ExecuteTime": {
     "end_time": "2022-01-17T20:27:52.246755Z",
     "start_time": "2022-01-17T20:27:52.231795Z"
    }
   },
   "outputs": [],
   "source": [
    "def gini_index(x):\n",
    "    \"\"\" Calculate Gini Index for a node\n",
    "    Args:\n",
    "        x: Numpy-array of targets in a node\n",
    "    Returns:\n",
    "        float: Gini index\n",
    "    \"\"\"    \n",
    "    if len(x) == 0:\n",
    "        return (0)\n",
    "    \n",
    "    return (1 - sum((np.unique(x, return_counts=True)[1] / len(x)) ** 2))"
   ]
  },
  {
   "cell_type": "code",
   "execution_count": 9,
   "metadata": {
    "ExecuteTime": {
     "end_time": "2022-01-17T20:27:52.372197Z",
     "start_time": "2022-01-17T20:27:52.248750Z"
    }
   },
   "outputs": [
    {
     "name": "stdout",
     "output_type": "stream",
     "text": [
      "\u001b[92m All good!\n"
     ]
    }
   ],
   "source": [
    "tests.test_gini_index(gini_index)"
   ]
  },
  {
   "cell_type": "markdown",
   "metadata": {},
   "source": [
    "0.5 points for *gini_gain* function"
   ]
  },
  {
   "cell_type": "code",
   "execution_count": 10,
   "metadata": {
    "ExecuteTime": {
     "end_time": "2022-01-17T20:27:52.374411Z",
     "start_time": "2022-01-17T20:27:51.226Z"
    }
   },
   "outputs": [],
   "source": [
    "def gini_gain(parent_node, splits):\n",
    "    \"\"\" Calculate Gini Gain for a particular split\n",
    "    Args:\n",
    "        parent_node: Numpy-array of targets in a parent node\n",
    "        splits: List of two numpy-arrays. Each numpy-array is targets in a child node\n",
    "    Returns:\n",
    "        float: Gini gain\n",
    "    \"\"\"       \n",
    "    gain = gini_index(parent_node) - \\\n",
    "            sum([gini_index(child) * len(child) / len(parent_node) for child in splits])\n",
    "    \n",
    "    return(gain)"
   ]
  },
  {
   "cell_type": "code",
   "execution_count": 11,
   "metadata": {
    "ExecuteTime": {
     "end_time": "2022-01-17T20:27:52.375408Z",
     "start_time": "2022-01-17T20:27:51.228Z"
    }
   },
   "outputs": [
    {
     "name": "stdout",
     "output_type": "stream",
     "text": [
      "\u001b[92m All good!\n"
     ]
    }
   ],
   "source": [
    "tests.test_gini_gain(gini_gain)"
   ]
  },
  {
   "cell_type": "markdown",
   "metadata": {},
   "source": [
    "### Entropy"
   ]
  },
  {
   "cell_type": "markdown",
   "metadata": {},
   "source": [
    "0.5 points for *entropy* function. WARNING! Use only natural logarithm np.log() for calculation."
   ]
  },
  {
   "cell_type": "code",
   "execution_count": 12,
   "metadata": {
    "ExecuteTime": {
     "end_time": "2022-01-17T20:27:52.376406Z",
     "start_time": "2022-01-17T20:27:51.230Z"
    }
   },
   "outputs": [],
   "source": [
    "def entropy(x):\n",
    "    \"\"\" Calculate Entropy for a node\n",
    "    Args:\n",
    "        x: Numpy-array of targets in a node\n",
    "    Returns:\n",
    "        float: Entropy\n",
    "    \"\"\"\n",
    "    # If you use vectorized operations on a vector of frequencies p\n",
    "    # where some of the relative frequencies may be 0, and you need to evaluate\n",
    "    # the expression p * np.log(p), you can use the \"where\" argument of the np.log() function.\n",
    "    # This will leave those elements of the array untouched by the function, \n",
    "    # thus evaluating x*log(x) as zero, exactly as we want it to be.\n",
    "    data = np.unique(x, return_counts=True)[1] / len(x)\n",
    "    return(sum(-data * np.log(data)))"
   ]
  },
  {
   "cell_type": "code",
   "execution_count": 13,
   "metadata": {
    "ExecuteTime": {
     "end_time": "2022-01-17T20:27:52.376406Z",
     "start_time": "2022-01-17T20:27:51.233Z"
    }
   },
   "outputs": [
    {
     "name": "stdout",
     "output_type": "stream",
     "text": [
      "\u001b[92m All good!\n"
     ]
    }
   ],
   "source": [
    "tests.test_entropy(entropy)"
   ]
  },
  {
   "cell_type": "markdown",
   "metadata": {},
   "source": [
    "0.5 points for *information_gain* function"
   ]
  },
  {
   "cell_type": "code",
   "execution_count": 14,
   "metadata": {
    "ExecuteTime": {
     "end_time": "2022-01-17T20:27:52.377403Z",
     "start_time": "2022-01-17T20:27:51.234Z"
    }
   },
   "outputs": [],
   "source": [
    "def information_gain(parent_node, splits):\n",
    "    \"\"\" Calculate Information Gain for a particular split\n",
    "    Args:\n",
    "        parent_node: Numpy-array of targets in a parent node\n",
    "        splits: List of two numpy-arrays. Each numpy-array is targets in a child node\n",
    "    Returns:\n",
    "        float: Information Gain\n",
    "    \"\"\"     \n",
    "    gain = entropy(parent_node) - \\\n",
    "            sum([entropy(child) * len(child) / len(parent_node) for child in splits])\n",
    "    \n",
    "    return(gain)"
   ]
  },
  {
   "cell_type": "code",
   "execution_count": 15,
   "metadata": {
    "ExecuteTime": {
     "end_time": "2022-01-17T20:27:52.378400Z",
     "start_time": "2022-01-17T20:27:51.236Z"
    }
   },
   "outputs": [
    {
     "name": "stdout",
     "output_type": "stream",
     "text": [
      "\u001b[92m All good!\n"
     ]
    }
   ],
   "source": [
    "tests.test_information_gain(information_gain)"
   ]
  },
  {
   "cell_type": "markdown",
   "metadata": {},
   "source": [
    "## Split function"
   ]
  },
  {
   "cell_type": "markdown",
   "metadata": {},
   "source": [
    "**Task 2 - 1 point** Implement *split_dataset* function. <br>\n",
    "The rows of the dataframe received by a tree node are split into two dataframes depending on their values in a selected column. Rows with values smaller than the chosen threshold are stored in the resulting left dataframe, and we save rows with values larger than the threshold in the right dataframe. The array with target values should be split in accordance with the feature dataframe."
   ]
  },
  {
   "cell_type": "code",
   "execution_count": 16,
   "metadata": {
    "ExecuteTime": {
     "end_time": "2022-01-17T20:27:52.379398Z",
     "start_time": "2022-01-17T20:27:51.239Z"
    }
   },
   "outputs": [],
   "source": [
    "def split(X, y, value):\n",
    "    \"\"\" Split y-values in order to calculate gain later\n",
    "    Args:\n",
    "        X: 1-dimensional numpy-array of data predictor with shape (N,)\n",
    "        y: 1-dimensional numpy-array of targets with shape (N,)\n",
    "        value (float): the value by which the X should be splitted\n",
    "    Returns:\n",
    "        Two 1-dimensional numpy-arrays with targets related to splits\n",
    "    \"\"\"      \n",
    "    left_mask = X < value\n",
    "    right_mask = X >= value\n",
    "    return y[left_mask], y[right_mask]\n",
    "\n",
    "\n",
    "def split_dataset(X, y, column, value):\n",
    "    \"\"\" Split dataset by a particular column and value\n",
    "    Args:\n",
    "        X: 2-dimensional numpy-array (N, num_feats). N-number of samples\n",
    "        y: 1-dimensional numpy-array of targets with shape (N,)  \n",
    "        column (int): the column by which the X should be splitted\n",
    "        value (float): the value by which the column should be splitted\n",
    "    Returns:\n",
    "        Two 2-dimensional numpy-arrays with data and two 1-dimensional numpy-arrays with targets related to splits\n",
    "        left_X, right_X, left_y, right_y\n",
    "    \"\"\"       \n",
    "    X_column = X[:, column].copy()\n",
    "    left_mask = X_column < value\n",
    "    right_mask = X_column >= value\n",
    "    left_y, right_y = y[left_mask], y[right_mask]\n",
    "    left_X, right_X = X[left_mask], X[right_mask]\n",
    "    \n",
    "    return left_X, right_X, left_y, right_y"
   ]
  },
  {
   "cell_type": "code",
   "execution_count": 17,
   "metadata": {
    "ExecuteTime": {
     "end_time": "2022-01-17T20:27:52.380396Z",
     "start_time": "2022-01-17T20:27:51.240Z"
    }
   },
   "outputs": [
    {
     "name": "stdout",
     "output_type": "stream",
     "text": [
      "\u001b[92m All good!\n"
     ]
    }
   ],
   "source": [
    "tests.test_split_dataset(split_dataset)"
   ]
  },
  {
   "cell_type": "markdown",
   "metadata": {},
   "source": [
    "## Decision tree"
   ]
  },
  {
   "cell_type": "markdown",
   "metadata": {},
   "source": [
    "**Task 3 - 4.5 points** In the Tree class below you need to complete the *fit(), predict_row()* and *predict()* functions.<br>\n",
    "Each tree is basically a tree node that may have a left and a right child that are also trees. If a tree doesn't have any child nodes, we call it a leaf.<br>\n",
    "Since features for splitting a dataframe are chosen randomly, we need a mechanism to control this randomness to aquire reproducibility for testing purposes. In our case we use the [Random Generator](https://numpy.org/doc/stable/reference/random/generator.html)<br>\n",
    "By creation of a tree only the **criterion** and the **rng** fields are not filled with Nones, so each tree knows what criterion for dataframe splitting it should use. Each fitted tree knows as well by which column and value the split should be performed. If a tree is a leaf it doesn't have information about the split, but stores the predicted value."
   ]
  },
  {
   "cell_type": "code",
   "execution_count": 18,
   "metadata": {
    "ExecuteTime": {
     "end_time": "2022-01-17T22:03:37.866634Z",
     "start_time": "2022-01-17T22:03:37.816038Z"
    }
   },
   "outputs": [],
   "source": [
    "class Tree(object):\n",
    "    \"\"\"A decision tree classifier.\n",
    "\n",
    "    Args:\n",
    "        criterion : {\"gini\", \"entropy\"}, default=\"gini\"\n",
    "            The function to measure the quality of a split. Supported criteria are\n",
    "            \"gini\" for the Gini impurity and \"entropy\" for the information gain.\n",
    "        random_gen: numpy Random Generator object, default=None\n",
    "            Generator should be passed over for reproducible results. If None, \n",
    "            a new np.random.default_rng() will be created.\n",
    "    \"\"\"\n",
    "    def __init__(self, criterion='gini', random_gen=None):\n",
    "        if criterion not in [\"gini\", \"entropy\"]:\n",
    "            raise ValueError(f'Unknown criteria for splits {criterion}')\n",
    "        self.criterion = criterion\n",
    "        self.threshold = None           # value of the next split\n",
    "        self.column_index = None        # column to use for the next split\n",
    "        self.outcome_probs = None       # the predicted value if the tree is a leaf\n",
    "        self.left_child = None\n",
    "        self.right_child = None\n",
    "        self.rng = random_gen if random_gen is not None else np.random.default_rng(RANDOM_STATE)\n",
    "\n",
    "    @property\n",
    "    def is_terminal(self):\n",
    "        \"\"\"Define is it terminal node.\"\"\"          \n",
    "        return not bool(self.left_child and self.right_child)\n",
    "    \n",
    "    def _compute_gain(self, y, splits):\n",
    "        \"\"\"Compute split gain according to chosen criteria.\"\"\"\n",
    "        func = gini_gain if self.criterion == 'gini' else information_gain\n",
    "        return func(y, splits)\n",
    "\n",
    "    def _find_splits(self, X):\n",
    "        \"\"\"Find all possible split values.\"\"\"\n",
    "        split_values = set()\n",
    "\n",
    "        # Get unique values in a sorted order\n",
    "        x_unique = list(np.unique(X))\n",
    "        for i in range(1, len(x_unique)):\n",
    "            # Find a point between two values\n",
    "            average = (x_unique[i - 1] + x_unique[i]) / 2.0\n",
    "            split_values.add(average)\n",
    "\n",
    "        return list(split_values)\n",
    "\n",
    "    def _find_best_split(self, X, y, n_features):\n",
    "        \"\"\"Find best feature and value for a split. Greedy algorithm.\"\"\"\n",
    "        # Sample random subset of features\n",
    "        subset = self.rng.choice(list(range(0, X.shape[1])), n_features, replace=False)\n",
    "\n",
    "        max_gain, max_col, max_val = None, None, None\n",
    "\n",
    "        for column in subset:\n",
    "            split_values = self._find_splits(X[:, column])\n",
    "            for value in split_values:\n",
    "                splits = split(X[:, column], y, value)\n",
    "                gain = self._compute_gain(y, splits)\n",
    "\n",
    "                if (max_gain is None) or (gain > max_gain):\n",
    "                    max_col, max_val, max_gain = column, value, gain\n",
    "        return max_col, max_val, max_gain\n",
    "    \n",
    "    def _compute_outcome(self, y):\n",
    "        \"\"\"Save outcome probabilities for the leaf.\"\"\"\n",
    "        self.outcome_probs = np.around(np.sum(y) / y.shape[0])\n",
    "\n",
    "    def fit(self, X, y, feature_frac=1.0, max_depth=None):\n",
    "        \"\"\"Fit model.\n",
    "\n",
    "        Args:\n",
    "            X (numpy-array):      The training input samples. 2-dimensional numpy array.\n",
    "            y (numpy-array):      The target values. 1-dimensional numpy array.\n",
    "            feature_frac (float): The fraction of features to use when fit is performed. Must be \n",
    "                                  between 0.0 and 1.0 (default: 1.0, i.e. all features).\n",
    "            max_depth (int):      The maximum depth of the tree. If None, then nodes are expanded\n",
    "                                  until all leaves are pure.\n",
    "        \"\"\"\n",
    "        # 3 points\n",
    "        \n",
    "        # Make this tree a leaf and return if max_depth doesn't allow it to grow further\n",
    "        if max_depth is not None and max_depth == 0:\n",
    "            return(self._compute_outcome(y))\n",
    "        \n",
    "        if not 0.0 <= feature_frac <= 1.0:\n",
    "            raise ValueError('feature_frac must lie between 0.0 and 1.0')\n",
    "        # Compute the number of features to use. Should be integer number\n",
    "        n_features = int(X.shape[1] * feature_frac)\n",
    "        \n",
    "        # Find the next split    \n",
    "        column, value, gain = self._find_best_split(X, y, n_features)\n",
    "        \n",
    "        # Make this tree a leaf and return if the split doesn't bring any gain\n",
    "        if gain is None or gain == 0:\n",
    "            self._compute_outcome(y)\n",
    "            return\n",
    "        \n",
    "        # Save the necessary information about the next split\n",
    "        self.threshold = value\n",
    "        self.column_index = column\n",
    "        \n",
    "        # Reduce the max_depth parameter for the next tree\n",
    "        if max_depth is not None:\n",
    "            max_depth = max_depth - 1\n",
    "\n",
    "        # Split dataset\n",
    "        left_X, right_X, left_target, right_target = split_dataset(X, y, column, value)\n",
    "\n",
    "        # Grow left and right child. Pass over the parent's random generator\n",
    "        # for reproducible results \n",
    "        self.left_child = Tree(criterion=self.criterion, random_gen=self.rng)\n",
    "        self.left_child.fit(left_X, left_target, feature_frac=feature_frac, max_depth=max_depth)\n",
    "\n",
    "        self.right_child = Tree(criterion=self.criterion, random_gen=self.rng)\n",
    "        self.right_child.fit(right_X, right_target, feature_frac=feature_frac, max_depth=max_depth)\n",
    "\n",
    "    def predict_row(self, row):\n",
    "        \"\"\"Predict single row.\"\"\"\n",
    "        # 0.5 points\n",
    "        \n",
    "        if not self.is_terminal:\n",
    "            # Use the stored information about the split to define \n",
    "            # if the right or the left child to use\n",
    "            if row[self.column_index] < self.threshold:\n",
    "                return(self.left_child.predict_row(row))\n",
    "            else:\n",
    "                return(self.right_child.predict_row(row))\n",
    "\n",
    "        return(self.outcome_probs)\n",
    "\n",
    "    def predict(self, X):\n",
    "        \"\"\"Make predictions.\n",
    "\n",
    "        Args:\n",
    "            X (numpy-array): The test input samples. 2-dimensional numpy array.\n",
    "        Returns:\n",
    "            1-dimensional numpy-array with predictions     \n",
    "        \"\"\" \n",
    "        # 1 point\n",
    "        \n",
    "        # Create a numpy array of zeros of necessary length to save predictions\n",
    "        result = np.zeros(X.shape[0])\n",
    "        # Go through all rows of the dataset\n",
    "        for i in range(X.shape[0]):\n",
    "            # Save the prediction for the current row\n",
    "            result[i] = self.predict_row(X[i])\n",
    "        return result"
   ]
  },
  {
   "cell_type": "code",
   "execution_count": 19,
   "metadata": {
    "ExecuteTime": {
     "end_time": "2022-01-17T20:27:52.381392Z",
     "start_time": "2022-01-17T20:27:51.244Z"
    }
   },
   "outputs": [
    {
     "name": "stdout",
     "output_type": "stream",
     "text": [
      "\u001b[92m All good!\n"
     ]
    }
   ],
   "source": [
    "tests.test_tree(Tree)"
   ]
  },
  {
   "cell_type": "markdown",
   "metadata": {},
   "source": [
    "**Task 4 - 1 point** Fit two models with \"max_depth=3\" and \"max_depth=None\" hyperparameters. **Explain** the results."
   ]
  },
  {
   "cell_type": "markdown",
   "metadata": {},
   "source": [
    "*****\n",
    "### `КОММЕНТАРИЙ`\n",
    ">Нет явных указания на то какой метод (criterion= \"gini\" или \"entropy\") использовать. Посмотрим на оба.\n",
    ">\n",
    ">Перед заданием №1 мы уже сделали разбмение на **X_train, X_test, y_train, y_test**\n",
    "*****\n"
   ]
  },
  {
   "cell_type": "code",
   "execution_count": 20,
   "metadata": {
    "ExecuteTime": {
     "end_time": "2022-01-17T20:27:52.382390Z",
     "start_time": "2022-01-17T20:27:51.246Z"
    }
   },
   "outputs": [],
   "source": [
    "# Your code here\n",
    "def tree_with_two_criterion(max_depth=1):\n",
    "    criterions = [\"gini\", \"entropy\"]\n",
    "    print(f\"{p('gray')}_____________________________________________________{p()}\")\n",
    "    print(f\"Формируем решающие деревья с параметром {p('b',1)}max_depth={max_depth}{p()}\")\n",
    "    for criterion in criterions:\n",
    "        model = Tree(criterion=criterion, random_gen=np.random.default_rng(RANDOM_STATE))\n",
    "        model.fit(X_train.values, y_train.values, max_depth=max_depth)\n",
    "        train_score = round(accuracy_score(y_train, model.predict(X_train.to_numpy())), 3)\n",
    "        test_score = round(accuracy_score(y_test, model.predict(X_test.to_numpy())), 3)\n",
    "        print(f\"   Используемый критерий [{p('b',1)}{criterion}{p()}]\")\n",
    "        print(f\"   Полученные оценки:\")\n",
    "        print(f\"      на обучающей выборке: {p('b',1)}{train_score}{p()}\")\n",
    "        print(f\"      на тестовой выборке:  {p('r',1)}{test_score}{p()}\\n\")"
   ]
  },
  {
   "cell_type": "code",
   "execution_count": 21,
   "metadata": {
    "ExecuteTime": {
     "end_time": "2022-01-17T20:27:52.383389Z",
     "start_time": "2022-01-17T20:27:51.248Z"
    }
   },
   "outputs": [
    {
     "name": "stdout",
     "output_type": "stream",
     "text": [
      "\u001b[90m_____________________________________________________\u001b[0m\n",
      "Формируем решающие деревья с параметром \u001b[94m\u001b[1mmax_depth=3\u001b[0m\n",
      "   Используемый критерий [\u001b[94m\u001b[1mgini\u001b[0m]\n",
      "   Полученные оценки:\n",
      "      на обучающей выборке: \u001b[94m\u001b[1m0.928\u001b[0m\n",
      "      на тестовой выборке:  \u001b[91m\u001b[1m0.667\u001b[0m\n",
      "\n",
      "   Используемый критерий [\u001b[94m\u001b[1mentropy\u001b[0m]\n",
      "   Полученные оценки:\n",
      "      на обучающей выборке: \u001b[94m\u001b[1m0.873\u001b[0m\n",
      "      на тестовой выборке:  \u001b[91m\u001b[1m0.738\u001b[0m\n",
      "\n",
      "\u001b[90m_____________________________________________________\u001b[0m\n",
      "Формируем решающие деревья с параметром \u001b[94m\u001b[1mmax_depth=None\u001b[0m\n",
      "   Используемый критерий [\u001b[94m\u001b[1mgini\u001b[0m]\n",
      "   Полученные оценки:\n",
      "      на обучающей выборке: \u001b[94m\u001b[1m1.0\u001b[0m\n",
      "      на тестовой выборке:  \u001b[91m\u001b[1m0.643\u001b[0m\n",
      "\n",
      "   Используемый критерий [\u001b[94m\u001b[1mentropy\u001b[0m]\n",
      "   Полученные оценки:\n",
      "      на обучающей выборке: \u001b[94m\u001b[1m1.0\u001b[0m\n",
      "      на тестовой выборке:  \u001b[91m\u001b[1m0.714\u001b[0m\n",
      "\n"
     ]
    }
   ],
   "source": [
    "# Your code here\n",
    "tree_with_two_criterion(3)\n",
    "tree_with_two_criterion(None)"
   ]
  },
  {
   "cell_type": "markdown",
   "metadata": {},
   "source": [
    "*****\n",
    "### `КОММЕНТАРИЙ`\n",
    "У нас не было указания на то, какой метод оценки (\"gini\" или \"entropy\") использовать, а значит надо сформулировать пояснений различий результатов между разными значениями **max_depth**, а не методами.\n",
    "\n",
    "Отличие **max_depth=3** и **max_depth=None** заключается в том, что во втором случае алгоритм заканчивает \"формирование\" дерева, когда доходит до последнего возможного деления - далее уже нет возможности разделить node на части. Это приводит к переобучености для обучающей выборки, что мы и видим когда accuracy становится равным 1.0, но, в нашем случае, может дать, а может и не дать более качественный результат и на тестовой выборке.\n",
    "\n",
    "Но что \"хорошо\" для обучающей выборки, \"плохо\" для тестовой - для \"настроенного\" на обучающую выборку дерева, результат на тестовой выборке становится хуже.\n",
    "\n",
    "*****\n"
   ]
  },
  {
   "cell_type": "code",
   "execution_count": 22,
   "metadata": {
    "ExecuteTime": {
     "end_time": "2022-01-17T20:27:52.384384Z",
     "start_time": "2022-01-17T20:27:51.249Z"
    }
   },
   "outputs": [],
   "source": [
    "def plot_metrics_on_depths(criterion='gini'):\n",
    "    max_depths, train_scores, test_scores = [], [], []\n",
    "    for max_depth in range(0, 8):\n",
    "        max_depths.append(max_depth)\n",
    "        model = Tree(criterion=criterion, random_gen=np.random.default_rng(RANDOM_STATE))\n",
    "        model.fit(X_train.values, y_train.values, max_depth=max_depth)\n",
    "        train_scores.append(accuracy_score(y_train, model.predict(X_train.values)))\n",
    "        y_pred = model.predict(X_test.values)\n",
    "        test_scores.append(accuracy_score(y_test, y_pred))\n",
    "    res_metrics = pd.DataFrame(data={'train': train_scores, 'test': test_scores}, index=max_depths)\n",
    "    sns.set(rc={'figure.figsize':(16, 6)})\n",
    "    plt.plot(res_metrics['train'], label='train score')\n",
    "    plt.plot(res_metrics['test'], label='test score')\n",
    "    plt.title(\"Accuracy as a function of max_depth\")\n",
    "    plt.xlabel('max_depth')\n",
    "    plt.ylabel('accuracy')\n",
    "    plt.legend()\n",
    "    plt.show();"
   ]
  },
  {
   "cell_type": "code",
   "execution_count": 23,
   "metadata": {
    "ExecuteTime": {
     "end_time": "2022-01-17T20:27:52.384384Z",
     "start_time": "2022-01-17T20:27:51.250Z"
    }
   },
   "outputs": [
    {
     "data": {
      "image/png": "[encoded data removed]",
      "text/plain": [
       "<Figure size 1152x432 with 1 Axes>"
      ]
     },
     "metadata": {},
     "output_type": "display_data"
    }
   ],
   "source": [
    "plot_metrics_on_depths('gini')"
   ]
  },
  {
   "cell_type": "code",
   "execution_count": 24,
   "metadata": {
    "ExecuteTime": {
     "end_time": "2022-01-17T20:27:52.385383Z",
     "start_time": "2022-01-17T20:27:51.252Z"
    }
   },
   "outputs": [
    {
     "data": {
      "image/png": "[encoded data removed]",
      "text/plain": [
       "<Figure size 1152x432 with 1 Axes>"
      ]
     },
     "metadata": {},
     "output_type": "display_data"
    }
   ],
   "source": [
    "plot_metrics_on_depths('entropy')"
   ]
  },
  {
   "cell_type": "markdown",
   "metadata": {},
   "source": [
    "## Random forest"
   ]
  },
  {
   "cell_type": "markdown",
   "metadata": {},
   "source": [
    "**Task 5 - 1.5 Points** In the RandomForestClassifier class below you need to complete the *fit* and *predict()* functions"
   ]
  },
  {
   "cell_type": "code",
   "execution_count": 25,
   "metadata": {
    "ExecuteTime": {
     "end_time": "2022-01-17T22:16:11.657659Z",
     "start_time": "2022-01-17T22:16:11.627802Z"
    }
   },
   "outputs": [],
   "source": [
    "class RandomForestClassifier(BaseEstimator, ClassifierMixin):\n",
    "    \"\"\"\n",
    "    A random forest classifier.\n",
    "    A random forest is a meta estimator that fits a number of decision tree\n",
    "    classifiers on various sub-samples of the dataset and uses averaging to\n",
    "    improve the predictive accuracy and control overfitting.\n",
    "    \n",
    "    Args:\n",
    "        n_estimators : int, default=10\n",
    "            The number of trees in the forest.\n",
    "\n",
    "        max_depth : int, default=None\n",
    "            The maximum depth of the tree. If None, then nodes are expanded until\n",
    "            all leaves are pure.        \n",
    "\n",
    "        feature_frac : float, default=None\n",
    "            The fraction of features to use when looking for the best split. Must be \n",
    "            between 0.0 and 1.0. If None, then `feature_frac = 1 / sqrt(n_features)`.\n",
    "\n",
    "        criterion : {\"gini\", \"entropy\"}, default=\"gini\"\n",
    "            The function to measure the quality of a split. Supported criteria are\n",
    "            \"gini\" for the Gini impurity and \"entropy\" for the information gain.\n",
    "            \n",
    "        random_gen: numpy Random Generator object, default=None\n",
    "            Generator should be passed over for reproducible results. If None, \n",
    "            a new np.random.default_rng() will be created.\n",
    "    \"\"\"\n",
    "\n",
    "    def __init__(self, n_estimators=10, max_depth=None, feature_frac=None, \n",
    "                 criterion=\"entropy\", bootstrap=True, random_gen=None):\n",
    "        self.n_estimators = n_estimators\n",
    "        self.max_depth = max_depth\n",
    "        self.bootstrap = bootstrap\n",
    "        self.feature_frac = feature_frac\n",
    "        \n",
    "        if criterion not in [\"gini\", \"entropy\"]:\n",
    "            raise ValueError(f'Unknown criteria for splits {criterion}')\n",
    "        self.criterion = criterion\n",
    "        \n",
    "        self.random_gen = random_gen\n",
    "\n",
    "    def _init_data(self, X, y):\n",
    "        \"\"\"Ensure data are in the expected format.\n",
    "        Ensures X and y are stored as numpy ndarrays by converting from an\n",
    "        array-like object if necessary. \n",
    "        Parameters\n",
    "        Args:\n",
    "            X : array-like\n",
    "                Feature dataset.\n",
    "            y : array-like, default=None\n",
    "                Target values. By default is required, but if y_required = false\n",
    "                then may be omitted.\n",
    "        \"\"\"\n",
    "        self.size = len(X)\n",
    "        \n",
    "        if not isinstance(X, np.ndarray):\n",
    "            self.X = np.array(X)\n",
    "        else:\n",
    "            self.X = X\n",
    "\n",
    "        if not isinstance(y, np.ndarray):\n",
    "            self.y = np.array(y)\n",
    "        else:\n",
    "            self.y = y\n",
    "            \n",
    "    def bootstrap_data(self, size):\n",
    "        return self.random_gen.integers(size, size=size)\n",
    "    \n",
    "    def fit(self, X, y):\n",
    "        \"\"\"Fit model.\n",
    "\n",
    "        Args:\n",
    "            X (numpy-array): The training input samples. 2-dimensional numpy array.\n",
    "            y (numpy-array): The target values. 1-dimensional numpy array.\n",
    "        \"\"\"\n",
    "        # 0.5 points\n",
    "        \n",
    "        self.set_params(n_estimators=self.n_estimators,\n",
    "                        max_depth=self.max_depth,\n",
    "                        feature_frac=self.feature_frac,\n",
    "                        criterion=self.criterion,\n",
    "                        bootstrap=self.bootstrap,\n",
    "                        random_gen=self.random_gen,\n",
    "                       )\n",
    "\n",
    "        if self.feature_frac is None:\n",
    "            self.feature_frac = 1 / np.sqrt(X.shape[1])\n",
    "        elif not 0.0 <= self.feature_frac <= 1.0:\n",
    "            raise ValueError('feature_frac must lie between 0.0 and 1.0')\n",
    "            \n",
    "        self._init_data(X, y)\n",
    "        \n",
    "        # Iterate over all trees in the forest\n",
    "        for tree in self.trees:\n",
    "            if self.bootstrap:\n",
    "                idxs = self.bootstrap_data(self.size)\n",
    "                X = self.X[idxs]\n",
    "                y = self.y[idxs]\n",
    "            else:\n",
    "                X = self.X\n",
    "                y = self.y\n",
    "                \n",
    "            # Fit the tree\n",
    "            tree.fit(X, y, self.feature_frac, self.max_depth)\n",
    "\n",
    "        return self\n",
    "        \n",
    "    def predict(self, X):\n",
    "        \"\"\"Make predictions.\n",
    "\n",
    "        Args:\n",
    "            X (numpy-array): The test data input samples. 2-dimensional numpy array.\n",
    "        \"\"\"\n",
    "        # 1 point\n",
    "        \n",
    "        if not isinstance(X, np.ndarray):\n",
    "            X = np.array(X)\n",
    "\n",
    "        if self.X is not None:\n",
    "            # Create a numpy array of zeros of necessary length\n",
    "            predictions = np.zeros(X.shape[0])\n",
    "            # Go through all rows of the dataset\n",
    "            for i in range(X.shape[0]):\n",
    "                # Initialize a counter for voting\n",
    "                row_pred = []\n",
    "                # Sum up predictions from all the voters\n",
    "                for tree in self.trees:\n",
    "                    row_pred.append(tree.predict_row(X[i]))\n",
    "                # Compute the mean of the votes\n",
    "                row_pred = np.mean(row_pred)\n",
    "                # Save the rounded value as the prediction for the current row\n",
    "                predictions[i] = np.round(row_pred)\n",
    "            return predictions  \n",
    "        else:\n",
    "            raise ValueError(\"You should fit a model before `predict`\")\n",
    "\n",
    "    def score(self, X, y=None):\n",
    "        return (accuracy_score(y, self.predict(X)))\n",
    "    \n",
    "    def set_params(self, **parameters):\n",
    "        for parameter, value in parameters.items():\n",
    "            setattr(self, parameter, value)\n",
    "        \n",
    "        if self.criterion not in [\"gini\", \"entropy\"]:\n",
    "            raise ValueError(f'Unknown criteria for splits {self.criterion}')\n",
    "        \n",
    "        self.random_gen = self.random_gen if self.random_gen is not None else np.random.default_rng(RANDOM_STATE)\n",
    "        self.trees = [Tree(criterion=self.criterion, random_gen=self.random_gen) for _ in range(self.n_estimators)]\n",
    "\n",
    "        return self\n",
    "\n",
    "    def get_params(self, deep=True):\n",
    "        ret_dict = {\n",
    "            \"n_estimators\": self.n_estimators,\n",
    "            \"max_depth\": self.max_depth,\n",
    "            \"bootstrap\": self.bootstrap,\n",
    "            \"feature_frac\": self.feature_frac,\n",
    "            \"random_gen\": self.random_gen,\n",
    "        }\n",
    "        return ret_dict"
   ]
  },
  {
   "cell_type": "code",
   "execution_count": 26,
   "metadata": {},
   "outputs": [
    {
     "name": "stdout",
     "output_type": "stream",
     "text": [
      "\u001b[92m All good!\n"
     ]
    }
   ],
   "source": [
    "tests.test_random_forest(RandomForestClassifier)"
   ]
  },
  {
   "cell_type": "markdown",
   "metadata": {},
   "source": [
    "**Task 6 - 1 Point** Fit two models with \"n_estimators=10\" and \"n_estimators=100\" hyperparameters. **Explain** the results."
   ]
  },
  {
   "cell_type": "code",
   "execution_count": 27,
   "metadata": {
    "ExecuteTime": {
     "end_time": "2022-01-17T20:27:52.388380Z",
     "start_time": "2022-01-17T20:27:51.257Z"
    }
   },
   "outputs": [],
   "source": [
    "# Your code here\n",
    "def random_forest_with_two_criterion(n_estimators=1,\n",
    "                                     max_depth=None,\n",
    "                                     feature_frac=None,\n",
    "                                     bootstrap=True):\n",
    "\n",
    "    criterions = [\"gini\", \"entropy\"]\n",
    "    print(f\"{p('gray')}_____________________________________________________{p()}\")\n",
    "    print(f\"Формируем 'случайный лес' с параметром {p('b',1)}n_estimators={n_estimators}{p()}\")\n",
    "    for criterion in criterions:\n",
    "        model = RandomForestClassifier(n_estimators=n_estimators,\n",
    "                                       max_depth=max_depth,\n",
    "                                       feature_frac=feature_frac,\n",
    "                                       criterion=criterion,\n",
    "                                       bootstrap=bootstrap,\n",
    "                                       random_gen=np.random.default_rng(RANDOM_STATE)\n",
    "                                      )\n",
    "        model.fit(X_train.values, y_train.values)\n",
    "        train_score = round(accuracy_score(y_train, model.predict(X_train.to_numpy())), 3)\n",
    "        test_score = round(accuracy_score(y_test, model.predict(X_test.to_numpy())), 3)\n",
    "        print(f\"   Используемый критерий [{p('b',1)}{criterion}{p()}]\")\n",
    "        print(f\"   Полученные оценки:\")\n",
    "        print(f\"      на обучающей выборке: {p('b',1)}{train_score}{p()}\")\n",
    "        print(f\"      на тестовой выборке:  {p('r',1)}{test_score}{p()}\\n\")"
   ]
  },
  {
   "cell_type": "code",
   "execution_count": 28,
   "metadata": {},
   "outputs": [
    {
     "name": "stdout",
     "output_type": "stream",
     "text": [
      "\u001b[90m_____________________________________________________\u001b[0m\n",
      "Формируем 'случайный лес' с параметром \u001b[94m\u001b[1mn_estimators=10\u001b[0m\n",
      "   Используемый критерий [\u001b[94m\u001b[1mgini\u001b[0m]\n",
      "   Полученные оценки:\n",
      "      на обучающей выборке: \u001b[94m\u001b[1m0.964\u001b[0m\n",
      "      на тестовой выборке:  \u001b[91m\u001b[1m0.81\u001b[0m\n",
      "\n",
      "   Используемый критерий [\u001b[94m\u001b[1mentropy\u001b[0m]\n",
      "   Полученные оценки:\n",
      "      на обучающей выборке: \u001b[94m\u001b[1m0.982\u001b[0m\n",
      "      на тестовой выборке:  \u001b[91m\u001b[1m0.857\u001b[0m\n",
      "\n",
      "\u001b[90m_____________________________________________________\u001b[0m\n",
      "Формируем 'случайный лес' с параметром \u001b[94m\u001b[1mn_estimators=15\u001b[0m\n",
      "   Используемый критерий [\u001b[94m\u001b[1mgini\u001b[0m]\n",
      "   Полученные оценки:\n",
      "      на обучающей выборке: \u001b[94m\u001b[1m0.976\u001b[0m\n",
      "      на тестовой выборке:  \u001b[91m\u001b[1m0.857\u001b[0m\n",
      "\n",
      "   Используемый критерий [\u001b[94m\u001b[1mentropy\u001b[0m]\n",
      "   Полученные оценки:\n",
      "      на обучающей выборке: \u001b[94m\u001b[1m0.994\u001b[0m\n",
      "      на тестовой выборке:  \u001b[91m\u001b[1m0.881\u001b[0m\n",
      "\n",
      "\u001b[90m_____________________________________________________\u001b[0m\n",
      "Формируем 'случайный лес' с параметром \u001b[94m\u001b[1mn_estimators=100\u001b[0m\n",
      "   Используемый критерий [\u001b[94m\u001b[1mgini\u001b[0m]\n",
      "   Полученные оценки:\n",
      "      на обучающей выборке: \u001b[94m\u001b[1m1.0\u001b[0m\n",
      "      на тестовой выборке:  \u001b[91m\u001b[1m0.857\u001b[0m\n",
      "\n",
      "   Используемый критерий [\u001b[94m\u001b[1mentropy\u001b[0m]\n",
      "   Полученные оценки:\n",
      "      на обучающей выборке: \u001b[94m\u001b[1m1.0\u001b[0m\n",
      "      на тестовой выборке:  \u001b[91m\u001b[1m0.881\u001b[0m\n",
      "\n"
     ]
    }
   ],
   "source": [
    "# Your code here\n",
    "random_forest_with_two_criterion(n_estimators=10, max_depth=5)\n",
    "random_forest_with_two_criterion(n_estimators=15, max_depth=5)\n",
    "random_forest_with_two_criterion(n_estimators=100, max_depth=5)"
   ]
  },
  {
   "cell_type": "code",
   "execution_count": 29,
   "metadata": {},
   "outputs": [],
   "source": [
    "def plot_metrics_on_estimators(criterion='gini'):\n",
    "    max_estimators, train_scores, test_scores = [], [], []\n",
    "    for n_estimators in range(1, 26):\n",
    "        max_estimators.append(n_estimators)\n",
    "        model = RandomForestClassifier(n_estimators=n_estimators,\n",
    "                                       max_depth=5,\n",
    "                                       criterion=criterion,\n",
    "                                       random_gen=np.random.default_rng(RANDOM_STATE)\n",
    "                                      )\n",
    "        model.fit(X_train.values, y_train.values)\n",
    "        train_scores.append(accuracy_score(y_train, model.predict(X_train.values)))\n",
    "        y_pred = model.predict(X_test.values)\n",
    "        test_scores.append(accuracy_score(y_test, y_pred))\n",
    "    res_metrics = pd.DataFrame(data={'train': train_scores, 'test': test_scores}, index=max_estimators)\n",
    "    sns.set(rc={'figure.figsize':(16, 6)})\n",
    "    plt.plot(res_metrics['train'], label='train score')\n",
    "    plt.plot(res_metrics['test'], label='test score')\n",
    "    plt.title(\"Accuracy as a function of max_estimators\")\n",
    "    plt.xlabel('max_estimators')\n",
    "    plt.ylabel('accuracy')\n",
    "    plt.legend()\n",
    "    plt.show();"
   ]
  },
  {
   "cell_type": "code",
   "execution_count": 30,
   "metadata": {},
   "outputs": [
    {
     "data": {
      "image/png": "[encoded data removed]",
      "text/plain": [
       "<Figure size 1152x432 with 1 Axes>"
      ]
     },
     "metadata": {},
     "output_type": "display_data"
    },
    {
     "name": "stdout",
     "output_type": "stream",
     "text": [
      "CPU times: total: 2min 13s\n",
      "Wall time: 2min 26s\n"
     ]
    }
   ],
   "source": [
    "%%time\n",
    "plot_metrics_on_estimators('gini')"
   ]
  },
  {
   "cell_type": "code",
   "execution_count": 31,
   "metadata": {},
   "outputs": [
    {
     "data": {
      "image/png": "[encoded data removed]",
      "text/plain": [
       "<Figure size 1152x432 with 1 Axes>"
      ]
     },
     "metadata": {},
     "output_type": "display_data"
    },
    {
     "name": "stdout",
     "output_type": "stream",
     "text": [
      "CPU times: total: 2min 17s\n",
      "Wall time: 2min 25s\n"
     ]
    }
   ],
   "source": [
    "%%time\n",
    "plot_metrics_on_estimators('entropy')"
   ]
  },
  {
   "cell_type": "markdown",
   "metadata": {},
   "source": [
    "Now it's your turn to explore the various parameters of RandomForestClassifier and their influence on model quality."
   ]
  },
  {
   "cell_type": "markdown",
   "metadata": {},
   "source": [
    "# Homework part 2. Random Forest in action"
   ]
  },
  {
   "cell_type": "markdown",
   "metadata": {},
   "source": [
    "_Note_: Consider **accuracy** as main metric of model performance on this dataset."
   ]
  },
  {
   "cell_type": "markdown",
   "metadata": {},
   "source": [
    "_Note_: For tasks 1 to 5 please use your custom RandomForestClassifier if it is completed."
   ]
  },
  {
   "cell_type": "markdown",
   "metadata": {},
   "source": [
    "**Task 1 (0.5 points)** Split the dataset into train, test and validation parts (0.6 / 0.2 / 0.2). First two will be used for model hyperparameter tuning whereas the best model quality should be evaluated on validation part."
   ]
  },
  {
   "cell_type": "code",
   "execution_count": 32,
   "metadata": {
    "ExecuteTime": {
     "end_time": "2022-01-17T20:27:52.390375Z",
     "start_time": "2022-01-17T20:27:51.261Z"
    }
   },
   "outputs": [
    {
     "name": "stdout",
     "output_type": "stream",
     "text": [
      "Количество строк в наборах (X), шт.: 124 42 42\n",
      "Количество строк в наборах (y), шт.: 124 42 42\n"
     ]
    }
   ],
   "source": [
    "# Your code here\n",
    "# Сначала выделим 60% обучающего куска, а потом оставшиеся\n",
    "# в тестовом 40% разобьём пополам в итоге получим 60%/20%/20%\n",
    "X_train, X_test, y_train, y_test = train_test_split(df.drop(columns='target'), \n",
    "                                                    df['target'], \n",
    "                                                    train_size=0.60, \n",
    "                                                    random_state=RANDOM_STATE\n",
    "                                                   )\n",
    "\n",
    "# В валидационную выборку отдаём 20 штук из оставшихся 80 (20% от общей выборки)\n",
    "X_test, X_valid, y_test, y_valid = train_test_split(X_test, \n",
    "                                                    y_test, \n",
    "                                                    test_size=0.5, \n",
    "                                                    random_state=RANDOM_STATE\n",
    "                                                   )\n",
    "\n",
    "print(\"Количество строк в наборах (X), шт.:\", X_train.shape[0], X_valid.shape[0], X_test.shape[0])\n",
    "print(\"Количество строк в наборах (y), шт.:\", y_train.shape[0], y_valid.shape[0], y_test.shape[0])"
   ]
  },
  {
   "cell_type": "code",
   "execution_count": 33,
   "metadata": {},
   "outputs": [],
   "source": [
    "# В задании говорится про выделение валидационной части.\n",
    "# Но она ни где не используется.\n",
    "# Если что, то эту ячейку можно раскомментировать.\n",
    "# Здесть только обучающая и тестовая выборки.\n",
    "\n",
    "# X_train, X_test, y_train, y_test = train_test_split(df.drop(columns='target'), \n",
    "#                                                     df['target'], \n",
    "#                                                     train_size=0.60, \n",
    "#                                                     random_state=RANDOM_STATE\n",
    "#                                                    )"
   ]
  },
  {
   "cell_type": "markdown",
   "metadata": {},
   "source": [
    "### Grid Search and Random Search"
   ]
  },
  {
   "cell_type": "markdown",
   "metadata": {},
   "source": [
    "If you have enough computational power for model training in a reasonable amount of time more sophisticated approach of hyperparameter tuning would be either Grid Search or Random Search.<br>\n",
    "\n",
    "In a nutshell Grid Search allows you to pass through all different combinations of given model parameters and their values and choose the best combination. Whereas Random Search would randomly choose values for given model parameters and evaluate them on test data untill it reaches the specified number of iterations.<br>\n",
    "\n",
    "More information here [Gentle introduction to Grid and Random search](https://medium.com/@senapati.dipak97/grid-search-vs-random-search-d34c92946318) and here [Detailed Explanation with code examples](https://machinelearningmastery.com/hyperparameter-optimization-with-random-search-and-grid-search/)."
   ]
  },
  {
   "attachments": {
    "grid_random_search.png": {
     "image/png": "[encoded data removed]"
    }
   },
   "cell_type": "markdown",
   "metadata": {},
   "source": [
    "![grid_random_search.png](attachment:grid_random_search.png)"
   ]
  },
  {
   "cell_type": "markdown",
   "metadata": {
    "ExecuteTime": {
     "end_time": "2022-01-17T10:10:45.984304Z",
     "start_time": "2022-01-17T10:10:45.969369Z"
    }
   },
   "source": [
    "**Task 3 (1 point)**. Compare your previous results with [GridSearch](https://scikit-learn.org/stable/modules/generated/sklearn.model_selection.GridSearchCV.html) hyperparameter tuning. You may tune best hyperparameters for forest with several trees and then increase it while measure the quality on validation dataset."
   ]
  },
  {
   "cell_type": "code",
   "execution_count": 34,
   "metadata": {
    "ExecuteTime": {
     "end_time": "2022-01-17T20:27:52.391365Z",
     "start_time": "2022-01-17T20:27:51.265Z"
    }
   },
   "outputs": [
    {
     "name": "stdout",
     "output_type": "stream",
     "text": [
      "Лучшие параметры подобранные на 'сетке': {'bootstrap': True, 'criterion': 'entropy', 'feature_frac': 1, 'max_depth': 3, 'n_estimators': 8, 'random_gen': Generator(PCG64) at 0x1AB7FABED60}\n",
      "\n",
      "Оценка accuracy на обучающей выборке: \u001b[94m\u001b[1m0.935\u001b[0m\n",
      "Оценка accuracy на тестовой выборке:  \u001b[91m\u001b[1m0.619\u001b[0m\n",
      "\n",
      "CPU times: total: 26.8 s\n",
      "Wall time: 3min 10s\n"
     ]
    }
   ],
   "source": [
    "%%time\n",
    "# Your code here\n",
    "params = {\"n_estimators\": range(8, 10),\n",
    "          \"max_depth\": range(3, 5),\n",
    "          \"feature_frac\": [0.5],\n",
    "          \"feature_frac\": [0.1, 0.5, 1],\n",
    "          \"criterion\": [\"entropy\"],\n",
    "          \"bootstrap\": [True],\n",
    "          \"random_gen\": [np.random.default_rng(RANDOM_STATE)],\n",
    "         }\n",
    "\n",
    "rfс = RandomForestClassifier()\n",
    "grid_search = GridSearchCV(estimator=rfс, param_grid=params, cv=4, n_jobs=-1)\n",
    "\n",
    "grid_search.fit(X_train, y_train)\n",
    "print(f\"Лучшие параметры подобранные на 'сетке': {grid_search.best_params_}\\n\")\n",
    "\n",
    "model = RandomForestClassifier(**grid_search.best_params_)\n",
    "model.fit(X_train.values, y_train.values)\n",
    "\n",
    "train_score = round(accuracy_score(y_train, model.predict(X_train.values)), 3)\n",
    "print(f\"Оценка accuracy на обучающей выборке: {p('b',1)}{train_score}{p()}\")\n",
    "\n",
    "y_pred = model.predict(X_test.values)\n",
    "test_score = round(accuracy_score(y_test, y_pred), 3)\n",
    "print(f\"Оценка accuracy на тестовой выборке:  {p('r',1)}{test_score}{p()}\\n\")"
   ]
  },
  {
   "cell_type": "markdown",
   "metadata": {},
   "source": [
    "**Task 4 (1 point)**. And finally tune forest hyperparameters with [RandomSearch](https://scikit-learn.org/stable/modules/generated/sklearn.model_selection.RandomizedSearchCV.html). Compare results to previous attempts."
   ]
  },
  {
   "cell_type": "code",
   "execution_count": 35,
   "metadata": {
    "ExecuteTime": {
     "end_time": "2022-01-17T20:27:52.392364Z",
     "start_time": "2022-01-17T20:27:51.266Z"
    }
   },
   "outputs": [
    {
     "name": "stdout",
     "output_type": "stream",
     "text": [
      "Лучшие параметры подобранные на 'сетке': {'random_gen': Generator(PCG64) at 0x1AB00248C80, 'n_estimators': 8, 'max_depth': 4, 'feature_frac': 1, 'criterion': 'entropy', 'bootstrap': True}\n",
      "\n",
      "Оценка accuracy на обучающей выборке: \u001b[94m\u001b[1m0.992\u001b[0m\n",
      "Оценка accuracy на тестовой выборке:  \u001b[91m\u001b[1m0.548\u001b[0m\n",
      "\n",
      "CPU times: total: 37.6 s\n",
      "Wall time: 3min 11s\n"
     ]
    }
   ],
   "source": [
    "%%time\n",
    "# Your code here\n",
    "params = {\"n_estimators\": range(8, 10),\n",
    "          \"max_depth\": range(3, 5),\n",
    "          \"feature_frac\": [0.1, 0.5, 1],\n",
    "          \"criterion\": [\"entropy\"],\n",
    "          \"bootstrap\": [True],\n",
    "          \"random_gen\": [np.random.default_rng(RANDOM_STATE)],\n",
    "         }\n",
    "\n",
    "rfс = RandomForestClassifier()\n",
    "rfс_random = RandomizedSearchCV(estimator=rfс,\n",
    "                                param_distributions=params,\n",
    "                                n_iter=10,\n",
    "                                random_state=RANDOM_STATE,\n",
    "                                cv=4,\n",
    "                                n_jobs=-1,\n",
    "                               )\n",
    "\n",
    "rfс_random.fit(X_train, y_train)\n",
    "print(f\"Лучшие параметры подобранные на 'сетке': {rfс_random.best_params_}\\n\")\n",
    "\n",
    "model = RandomForestClassifier(**rfс_random.best_params_)\n",
    "model.fit(X_train.values, y_train.values)\n",
    "\n",
    "train_score = round(accuracy_score(y_train, model.predict(X_train.values)), 3)\n",
    "print(f\"Оценка accuracy на обучающей выборке: {p('b',1)}{train_score}{p()}\")\n",
    "\n",
    "y_pred = model.predict(X_test.values)\n",
    "test_score = round(accuracy_score(y_test, y_pred), 3)\n",
    "print(f\"Оценка accuracy на тестовой выборке:  {p('r',1)}{test_score}{p()}\\n\")"
   ]
  },
  {
   "cell_type": "markdown",
   "metadata": {},
   "source": [
    "**Task 5 (0.5 points)**. Tell us about your experience in hyperparameter tuning with the approaches above. What do you think would be the best option for this task and why?"
   ]
  },
  {
   "cell_type": "markdown",
   "metadata": {},
   "source": [
    "Your cool ideas here..."
   ]
  },
  {
   "cell_type": "markdown",
   "metadata": {},
   "source": [
    "*****\n",
    "### `ИТОГИ/ВЫВОДЫ`\n",
    "Полученный опыт, конечно, небольшой, но что-то можно подчеркнуть из проделанных шагов по подобору параметров (`hyperparameter tuning`):\n",
    "1. от каждого параметра в используемых методах ML может серьёзно зависеть результат как на обучающей так и на тестовой выборках;\n",
    "1. подбор параметров требователен к вычислительным ресурсам;\n",
    "1. фактически подбор параметров - это их перебор;\n",
    "1. подбор \"удачных\" параметров, после шага, связанного с подготовкой данных, наверное, является самым времяёмким;\n",
    "1. применение `GridSearchCV` упрощает код по перебору возможных комбинаций параметров для выбора наиболее удачного тюнинга модели, но несомненно является времяёмким процессом;\n",
    "1. возможностью случайно \"наткнуться\" на лучший параметр, но несколько за более короткий промежуток времени является перебор параметров `RandomizedSearchCV`, использующего \"случаные\" поправки на \"сетке\" параметров;\n",
    "1. одним из обязательных правил при подборе параметров является фиксация `random_state`, что позволяет обеспечить воспроизводитмость результатов экспериментов, без которых не возможно сделать хоть какие-то адекватные выводы;\n",
    "1. инструментарий предоставляемый библиотекой `sklearn` обширен и позволяет использовать её средства с \"самописными\" решателями;\n",
    "1. увеличение количества деревье в \"случайном лесе\" приводит к результату, напоминающему переобучение - модель хорошо работает на обучающей выборке, но на тестовой выборке результат начинает ухудшаться;\n",
    "1. всё больше и больше технологии машинного обучения отдаляются от научно-объяснимых методов и приближаются если не к шаманским техникам Вуду, то уж к рутинным последовательным операциям, иногда, приводимым к плохообъяснимым результатам, например, в этой работе с использованием самописного алгоритма \"случайного леса\" мы:\n",
    "* просто установив `n_estimators=10` и выбором одного из двух критерие в пользу `entropy` потратили приблизительно 3 (три) секунды и получили на обучающей выборке **`accuracy=0.982`**, а на тестовой **`accuracy=0.857`**;\n",
    "* просто поменяв `n_estimators=100` потратили приблизительно 30 (тридцать) секунд и получили на обучающей выборке **`accuracy=1.00`**, а на тестовой **`accuracy=0.881`**\n",
    "* использовав `GridSearchCV` на небольшой \"сетке\" пераметров уже почти через 3 (три) минуты получили следующие результаты: на обучающей выборке **`accuracy=0.94`**, а на тестовой **`accuracy=0.62`**\n",
    "* использовав `RandomizedSearchCV` на той же \"сетке\" пераметров за 2,5 (две с половиной) минуты получили на обучающей выборке **`accuracy=0.99`**, а на тестовой **`accuracy=0.55`**\n",
    "* потратили суммарно на все из описанных выше вариантов около 3-х часов (написание кода; исправление ошибок; уточнение сетки, чтобы она не была слишком большой и долго обрабатывалась), тогда как \"тупой\" способ увеличения количества деревьев до 100 за 5 минут суммарно потраченного на него времени дал лучший результат (если работа ML-инженера состоит в том чтобы ждать пока его модель обсчитается по всем возможным вариантам на \"сетке\" параметров, то это **лучшая работа в мире**, так как сразу возникает мысль выставить максимально разнобразные варианты и идти домой спать, а через неделю вернуться и посмотреть на результат).\n",
    "\n",
    "*****\n"
   ]
  },
  {
   "cell_type": "markdown",
   "metadata": {},
   "source": [
    "### Desicion tree explained"
   ]
  },
  {
   "cell_type": "markdown",
   "metadata": {},
   "source": [
    "Remember the [Titanic](https://www.kaggle.com/c/titanic) competition from last week? Wouldn't be a good idea to visualize one of possible desicion-making processes of _survived_ / _dead_ labeling?"
   ]
  },
  {
   "cell_type": "markdown",
   "metadata": {},
   "source": [
    "**Task 6 (1 point)**. Load titanic dataset, split it into train/test parts, apply simple hyperparameter tuning of [DesicionTreeClassifier](https://scikit-learn.org/stable/modules/generated/sklearn.tree.DecisionTreeClassifier.html) (use one of the approaches above) in order to have **test accuracy more than 0.65**. <br>\n",
    "\n",
    "Draw the best tree decision making process. You may use [sklearn.tree.prot_tree](https://scikit-learn.org/stable/modules/generated/sklearn.tree.plot_tree.html).<br>"
   ]
  },
  {
   "cell_type": "code",
   "execution_count": 36,
   "metadata": {
    "ExecuteTime": {
     "end_time": "2022-01-17T20:27:52.393362Z",
     "start_time": "2022-01-17T20:27:51.269Z"
    }
   },
   "outputs": [
    {
     "data": {
      "text/html": [
       "<div>\n",
       "<style scoped>\n",
       "    .dataframe tbody tr th:only-of-type {\n",
       "        vertical-align: middle;\n",
       "    }\n",
       "\n",
       "    .dataframe tbody tr th {\n",
       "        vertical-align: top;\n",
       "    }\n",
       "\n",
       "    .dataframe thead th {\n",
       "        text-align: right;\n",
       "    }\n",
       "</style>\n",
       "<table border=\"1\" class=\"dataframe\">\n",
       "  <thead>\n",
       "    <tr style=\"text-align: right;\">\n",
       "      <th></th>\n",
       "      <th>Survived</th>\n",
       "      <th>Pclass</th>\n",
       "      <th>Name</th>\n",
       "      <th>Sex</th>\n",
       "      <th>Age</th>\n",
       "      <th>SibSp</th>\n",
       "      <th>Parch</th>\n",
       "      <th>Ticket</th>\n",
       "      <th>Fare</th>\n",
       "      <th>Cabin</th>\n",
       "      <th>Embarked</th>\n",
       "    </tr>\n",
       "    <tr>\n",
       "      <th>PassengerId</th>\n",
       "      <th></th>\n",
       "      <th></th>\n",
       "      <th></th>\n",
       "      <th></th>\n",
       "      <th></th>\n",
       "      <th></th>\n",
       "      <th></th>\n",
       "      <th></th>\n",
       "      <th></th>\n",
       "      <th></th>\n",
       "      <th></th>\n",
       "    </tr>\n",
       "  </thead>\n",
       "  <tbody>\n",
       "    <tr>\n",
       "      <th>0</th>\n",
       "      <td>1</td>\n",
       "      <td>1</td>\n",
       "      <td>Oconnor, Frankie</td>\n",
       "      <td>male</td>\n",
       "      <td>NaN</td>\n",
       "      <td>2</td>\n",
       "      <td>0</td>\n",
       "      <td>209245</td>\n",
       "      <td>27.14</td>\n",
       "      <td>C12239</td>\n",
       "      <td>S</td>\n",
       "    </tr>\n",
       "    <tr>\n",
       "      <th>1</th>\n",
       "      <td>0</td>\n",
       "      <td>3</td>\n",
       "      <td>Bryan, Drew</td>\n",
       "      <td>male</td>\n",
       "      <td>NaN</td>\n",
       "      <td>0</td>\n",
       "      <td>0</td>\n",
       "      <td>27323</td>\n",
       "      <td>13.35</td>\n",
       "      <td>NaN</td>\n",
       "      <td>S</td>\n",
       "    </tr>\n",
       "    <tr>\n",
       "      <th>2</th>\n",
       "      <td>0</td>\n",
       "      <td>3</td>\n",
       "      <td>Owens, Kenneth</td>\n",
       "      <td>male</td>\n",
       "      <td>0.33</td>\n",
       "      <td>1</td>\n",
       "      <td>2</td>\n",
       "      <td>CA 457703</td>\n",
       "      <td>71.29</td>\n",
       "      <td>NaN</td>\n",
       "      <td>S</td>\n",
       "    </tr>\n",
       "    <tr>\n",
       "      <th>3</th>\n",
       "      <td>0</td>\n",
       "      <td>3</td>\n",
       "      <td>Kramer, James</td>\n",
       "      <td>male</td>\n",
       "      <td>19.00</td>\n",
       "      <td>0</td>\n",
       "      <td>0</td>\n",
       "      <td>A. 10866</td>\n",
       "      <td>13.04</td>\n",
       "      <td>NaN</td>\n",
       "      <td>S</td>\n",
       "    </tr>\n",
       "    <tr>\n",
       "      <th>4</th>\n",
       "      <td>1</td>\n",
       "      <td>3</td>\n",
       "      <td>Bond, Michael</td>\n",
       "      <td>male</td>\n",
       "      <td>25.00</td>\n",
       "      <td>0</td>\n",
       "      <td>0</td>\n",
       "      <td>427635</td>\n",
       "      <td>7.76</td>\n",
       "      <td>NaN</td>\n",
       "      <td>S</td>\n",
       "    </tr>\n",
       "  </tbody>\n",
       "</table>\n",
       "</div>"
      ],
      "text/plain": [
       "             Survived  Pclass              Name   Sex    Age  SibSp  Parch  \\\n",
       "PassengerId                                                                  \n",
       "0                   1       1  Oconnor, Frankie  male    NaN      2      0   \n",
       "1                   0       3       Bryan, Drew  male    NaN      0      0   \n",
       "2                   0       3    Owens, Kenneth  male   0.33      1      2   \n",
       "3                   0       3     Kramer, James  male  19.00      0      0   \n",
       "4                   1       3     Bond, Michael  male  25.00      0      0   \n",
       "\n",
       "                Ticket   Fare   Cabin Embarked  \n",
       "PassengerId                                     \n",
       "0               209245  27.14  C12239        S  \n",
       "1                27323  13.35     NaN        S  \n",
       "2            CA 457703  71.29     NaN        S  \n",
       "3             A. 10866  13.04     NaN        S  \n",
       "4               427635   7.76     NaN        S  "
      ]
     },
     "execution_count": 36,
     "metadata": {},
     "output_type": "execute_result"
    }
   ],
   "source": [
    "# your code here\n",
    "PATH = \"./data/\"\n",
    "data = pd.read_csv(os.path.join(PATH, 'titanic', 'train.csv')).set_index('PassengerId')\n",
    "data.head()"
   ]
  },
  {
   "cell_type": "markdown",
   "metadata": {},
   "source": [
    "### Немного пофичеинженирим:\n",
    "Но не будим на них особенно сильно тратить время - тут главное алгоритм протестировать."
   ]
  },
  {
   "cell_type": "code",
   "execution_count": 37,
   "metadata": {},
   "outputs": [
    {
     "name": "stdout",
     "output_type": "stream",
     "text": [
      "-------------------------------\n",
      "Процент пропущенных значений:\n",
      "Cabin       67.866\n",
      "Ticket       4.623\n",
      "Age          3.292\n",
      "Embarked     0.250\n",
      "Fare         0.134\n",
      "Survived     0.000\n",
      "Pclass       0.000\n",
      "Name         0.000\n",
      "Sex          0.000\n",
      "SibSp        0.000\n",
      "Parch        0.000\n",
      "dtype: float64\n",
      "-------------------------------\n",
      "Количество пропущенных значений:\n",
      "Cabin       67866\n",
      "Ticket       4623\n",
      "Age          3292\n",
      "Embarked      250\n",
      "Fare          134\n",
      "Survived        0\n",
      "Pclass          0\n",
      "Name            0\n",
      "Sex             0\n",
      "SibSp           0\n",
      "Parch           0\n",
      "dtype: int64\n",
      "-------------------------------\n"
     ]
    }
   ],
   "source": [
    "# Посмотрим проценты пропусков в данных по столбцам:\n",
    "missing_values = ((data.isna().sum() / data.shape[0]) * 100 ).sort_values(ascending=False)\n",
    "print(\"-------------------------------\")\n",
    "print(\"Процент пропущенных значений:\")\n",
    "print(missing_values)\n",
    "print(\"-------------------------------\")\n",
    "missing_values = data.isna().sum().sort_values(ascending=False)\n",
    "print(\"Количество пропущенных значений:\")\n",
    "print(missing_values)\n",
    "print(\"-------------------------------\")\n"
   ]
  },
  {
   "cell_type": "code",
   "execution_count": 38,
   "metadata": {},
   "outputs": [
    {
     "name": "stdout",
     "output_type": "stream",
     "text": [
      "<class 'pandas.core.frame.DataFrame'>\n",
      "Int64Index: 100000 entries, 0 to 99999\n",
      "Data columns (total 11 columns):\n",
      " #   Column    Non-Null Count   Dtype  \n",
      "---  ------    --------------   -----  \n",
      " 0   Survived  100000 non-null  int64  \n",
      " 1   Pclass    100000 non-null  int64  \n",
      " 2   Name      100000 non-null  object \n",
      " 3   Sex       100000 non-null  object \n",
      " 4   Age       96708 non-null   float64\n",
      " 5   SibSp     100000 non-null  int64  \n",
      " 6   Parch     100000 non-null  int64  \n",
      " 7   Ticket    95377 non-null   object \n",
      " 8   Fare      99866 non-null   float64\n",
      " 9   Cabin     32134 non-null   object \n",
      " 10  Embarked  99750 non-null   object \n",
      "dtypes: float64(2), int64(4), object(5)\n",
      "memory usage: 9.2+ MB\n"
     ]
    }
   ],
   "source": [
    "# Посмотрис какие параметря у нас не числовые\n",
    "data.info()"
   ]
  },
  {
   "cell_type": "code",
   "execution_count": 39,
   "metadata": {},
   "outputs": [
    {
     "data": {
      "text/html": [
       "<div>\n",
       "<style scoped>\n",
       "    .dataframe tbody tr th:only-of-type {\n",
       "        vertical-align: middle;\n",
       "    }\n",
       "\n",
       "    .dataframe tbody tr th {\n",
       "        vertical-align: top;\n",
       "    }\n",
       "\n",
       "    .dataframe thead th {\n",
       "        text-align: right;\n",
       "    }\n",
       "</style>\n",
       "<table border=\"1\" class=\"dataframe\">\n",
       "  <thead>\n",
       "    <tr style=\"text-align: right;\">\n",
       "      <th></th>\n",
       "      <th>Survived</th>\n",
       "      <th>Pclass</th>\n",
       "      <th>Sex</th>\n",
       "      <th>Age</th>\n",
       "      <th>SibSp</th>\n",
       "      <th>Parch</th>\n",
       "      <th>Fare</th>\n",
       "      <th>Cabin_missed</th>\n",
       "      <th>Ticket_missed</th>\n",
       "      <th>Age_missed</th>\n",
       "      <th>Embarked_missed</th>\n",
       "      <th>Fare_missed</th>\n",
       "      <th>Embarked_C</th>\n",
       "      <th>Embarked_Q</th>\n",
       "      <th>Embarked_S</th>\n",
       "    </tr>\n",
       "    <tr>\n",
       "      <th>PassengerId</th>\n",
       "      <th></th>\n",
       "      <th></th>\n",
       "      <th></th>\n",
       "      <th></th>\n",
       "      <th></th>\n",
       "      <th></th>\n",
       "      <th></th>\n",
       "      <th></th>\n",
       "      <th></th>\n",
       "      <th></th>\n",
       "      <th></th>\n",
       "      <th></th>\n",
       "      <th></th>\n",
       "      <th></th>\n",
       "      <th></th>\n",
       "    </tr>\n",
       "  </thead>\n",
       "  <tbody>\n",
       "    <tr>\n",
       "      <th>0</th>\n",
       "      <td>1</td>\n",
       "      <td>1</td>\n",
       "      <td>1</td>\n",
       "      <td>38.355472</td>\n",
       "      <td>2</td>\n",
       "      <td>0</td>\n",
       "      <td>27.14</td>\n",
       "      <td>0</td>\n",
       "      <td>0</td>\n",
       "      <td>1</td>\n",
       "      <td>0</td>\n",
       "      <td>0</td>\n",
       "      <td>0.0</td>\n",
       "      <td>0.0</td>\n",
       "      <td>1.0</td>\n",
       "    </tr>\n",
       "    <tr>\n",
       "      <th>1</th>\n",
       "      <td>0</td>\n",
       "      <td>3</td>\n",
       "      <td>1</td>\n",
       "      <td>38.355472</td>\n",
       "      <td>0</td>\n",
       "      <td>0</td>\n",
       "      <td>13.35</td>\n",
       "      <td>1</td>\n",
       "      <td>0</td>\n",
       "      <td>1</td>\n",
       "      <td>0</td>\n",
       "      <td>0</td>\n",
       "      <td>0.0</td>\n",
       "      <td>0.0</td>\n",
       "      <td>1.0</td>\n",
       "    </tr>\n",
       "    <tr>\n",
       "      <th>2</th>\n",
       "      <td>0</td>\n",
       "      <td>3</td>\n",
       "      <td>1</td>\n",
       "      <td>0.330000</td>\n",
       "      <td>1</td>\n",
       "      <td>2</td>\n",
       "      <td>71.29</td>\n",
       "      <td>1</td>\n",
       "      <td>0</td>\n",
       "      <td>0</td>\n",
       "      <td>0</td>\n",
       "      <td>0</td>\n",
       "      <td>0.0</td>\n",
       "      <td>0.0</td>\n",
       "      <td>1.0</td>\n",
       "    </tr>\n",
       "    <tr>\n",
       "      <th>3</th>\n",
       "      <td>0</td>\n",
       "      <td>3</td>\n",
       "      <td>1</td>\n",
       "      <td>19.000000</td>\n",
       "      <td>0</td>\n",
       "      <td>0</td>\n",
       "      <td>13.04</td>\n",
       "      <td>1</td>\n",
       "      <td>0</td>\n",
       "      <td>0</td>\n",
       "      <td>0</td>\n",
       "      <td>0</td>\n",
       "      <td>0.0</td>\n",
       "      <td>0.0</td>\n",
       "      <td>1.0</td>\n",
       "    </tr>\n",
       "    <tr>\n",
       "      <th>4</th>\n",
       "      <td>1</td>\n",
       "      <td>3</td>\n",
       "      <td>1</td>\n",
       "      <td>25.000000</td>\n",
       "      <td>0</td>\n",
       "      <td>0</td>\n",
       "      <td>7.76</td>\n",
       "      <td>1</td>\n",
       "      <td>0</td>\n",
       "      <td>0</td>\n",
       "      <td>0</td>\n",
       "      <td>0</td>\n",
       "      <td>0.0</td>\n",
       "      <td>0.0</td>\n",
       "      <td>1.0</td>\n",
       "    </tr>\n",
       "    <tr>\n",
       "      <th>5</th>\n",
       "      <td>0</td>\n",
       "      <td>2</td>\n",
       "      <td>1</td>\n",
       "      <td>35.000000</td>\n",
       "      <td>0</td>\n",
       "      <td>0</td>\n",
       "      <td>6.71</td>\n",
       "      <td>1</td>\n",
       "      <td>0</td>\n",
       "      <td>0</td>\n",
       "      <td>0</td>\n",
       "      <td>0</td>\n",
       "      <td>0.0</td>\n",
       "      <td>0.0</td>\n",
       "      <td>1.0</td>\n",
       "    </tr>\n",
       "    <tr>\n",
       "      <th>6</th>\n",
       "      <td>0</td>\n",
       "      <td>3</td>\n",
       "      <td>1</td>\n",
       "      <td>7.000000</td>\n",
       "      <td>0</td>\n",
       "      <td>0</td>\n",
       "      <td>9.77</td>\n",
       "      <td>1</td>\n",
       "      <td>0</td>\n",
       "      <td>0</td>\n",
       "      <td>0</td>\n",
       "      <td>0</td>\n",
       "      <td>0.0</td>\n",
       "      <td>0.0</td>\n",
       "      <td>1.0</td>\n",
       "    </tr>\n",
       "    <tr>\n",
       "      <th>7</th>\n",
       "      <td>1</td>\n",
       "      <td>3</td>\n",
       "      <td>0</td>\n",
       "      <td>6.000000</td>\n",
       "      <td>1</td>\n",
       "      <td>2</td>\n",
       "      <td>31.50</td>\n",
       "      <td>1</td>\n",
       "      <td>0</td>\n",
       "      <td>0</td>\n",
       "      <td>0</td>\n",
       "      <td>0</td>\n",
       "      <td>0.0</td>\n",
       "      <td>0.0</td>\n",
       "      <td>1.0</td>\n",
       "    </tr>\n",
       "    <tr>\n",
       "      <th>8</th>\n",
       "      <td>0</td>\n",
       "      <td>1</td>\n",
       "      <td>1</td>\n",
       "      <td>27.000000</td>\n",
       "      <td>2</td>\n",
       "      <td>1</td>\n",
       "      <td>73.02</td>\n",
       "      <td>0</td>\n",
       "      <td>0</td>\n",
       "      <td>0</td>\n",
       "      <td>0</td>\n",
       "      <td>0</td>\n",
       "      <td>0.0</td>\n",
       "      <td>0.0</td>\n",
       "      <td>1.0</td>\n",
       "    </tr>\n",
       "    <tr>\n",
       "      <th>9</th>\n",
       "      <td>0</td>\n",
       "      <td>2</td>\n",
       "      <td>1</td>\n",
       "      <td>66.000000</td>\n",
       "      <td>0</td>\n",
       "      <td>0</td>\n",
       "      <td>9.14</td>\n",
       "      <td>0</td>\n",
       "      <td>0</td>\n",
       "      <td>0</td>\n",
       "      <td>0</td>\n",
       "      <td>0</td>\n",
       "      <td>1.0</td>\n",
       "      <td>0.0</td>\n",
       "      <td>0.0</td>\n",
       "    </tr>\n",
       "  </tbody>\n",
       "</table>\n",
       "</div>"
      ],
      "text/plain": [
       "             Survived  Pclass  Sex        Age  SibSp  Parch   Fare  \\\n",
       "PassengerId                                                          \n",
       "0                   1       1    1  38.355472      2      0  27.14   \n",
       "1                   0       3    1  38.355472      0      0  13.35   \n",
       "2                   0       3    1   0.330000      1      2  71.29   \n",
       "3                   0       3    1  19.000000      0      0  13.04   \n",
       "4                   1       3    1  25.000000      0      0   7.76   \n",
       "5                   0       2    1  35.000000      0      0   6.71   \n",
       "6                   0       3    1   7.000000      0      0   9.77   \n",
       "7                   1       3    0   6.000000      1      2  31.50   \n",
       "8                   0       1    1  27.000000      2      1  73.02   \n",
       "9                   0       2    1  66.000000      0      0   9.14   \n",
       "\n",
       "             Cabin_missed  Ticket_missed  Age_missed  Embarked_missed  \\\n",
       "PassengerId                                                             \n",
       "0                       0              0           1                0   \n",
       "1                       1              0           1                0   \n",
       "2                       1              0           0                0   \n",
       "3                       1              0           0                0   \n",
       "4                       1              0           0                0   \n",
       "5                       1              0           0                0   \n",
       "6                       1              0           0                0   \n",
       "7                       1              0           0                0   \n",
       "8                       0              0           0                0   \n",
       "9                       0              0           0                0   \n",
       "\n",
       "             Fare_missed  Embarked_C  Embarked_Q  Embarked_S  \n",
       "PassengerId                                                   \n",
       "0                      0         0.0         0.0         1.0  \n",
       "1                      0         0.0         0.0         1.0  \n",
       "2                      0         0.0         0.0         1.0  \n",
       "3                      0         0.0         0.0         1.0  \n",
       "4                      0         0.0         0.0         1.0  \n",
       "5                      0         0.0         0.0         1.0  \n",
       "6                      0         0.0         0.0         1.0  \n",
       "7                      0         0.0         0.0         1.0  \n",
       "8                      0         0.0         0.0         1.0  \n",
       "9                      0         1.0         0.0         0.0  "
      ]
     },
     "execution_count": 39,
     "metadata": {},
     "output_type": "execute_result"
    }
   ],
   "source": [
    "data_prep = data.copy(deep=True)\n",
    "\n",
    "data_prep[\"Cabin_missed\"] = data_prep[\"Cabin\"].isna() * 1\n",
    "data_prep[\"Cabin\"] = data_prep[\"Cabin\"].fillna(\"НетКаюты\")\n",
    "\n",
    "data_prep[\"Ticket_missed\"] = data_prep[\"Ticket\"].isna() * 1\n",
    "data_prep[\"Ticket\"] = data_prep[\"Ticket\"].fillna(\"НетБилета\")\n",
    "\n",
    "data_prep[\"Age_missed\"] = data_prep[\"Age\"].isna() * 1\n",
    "n_age_mean = data_prep[\"Age\"].mean()\n",
    "data_prep[\"Age\"] = data_prep[\"Age\"].fillna(n_age_mean)\n",
    "\n",
    "data_prep[\"Embarked_missed\"] = data_prep[\"Embarked\"].isna() * 1\n",
    "data_prep[\"Embarked\"] = data_prep[\"Embarked\"].fillna(\"S\")\n",
    "\n",
    "data_prep[\"Fare_missed\"] = data_prep[\"Fare\"].isna() * 1\n",
    "n_fate_mean = data_prep[\"Fare\"].mean()\n",
    "data_prep[\"Fare\"] = data_prep[\"Fare\"].fillna(n_fate_mean)\n",
    "\n",
    "data_prep[\"Sex\"] = data_prep[\"Sex\"].map({\"male\": 1, \"female\": 0})\n",
    "\n",
    "ohe = OneHotEncoder(sparse=False)\n",
    "ohe.fit(data_prep[[\"Embarked\"]])\n",
    "data_prep[ohe.get_feature_names_out()] = ohe.transform(data_prep[[\"Embarked\"]])\n",
    "\n",
    "del data_prep[\"Cabin\"]\n",
    "del data_prep[\"Ticket\"]\n",
    "del data_prep[\"Name\"]\n",
    "del data_prep[\"Embarked\"]\n",
    "\n",
    "data_prep.head(10)"
   ]
  },
  {
   "cell_type": "code",
   "execution_count": 40,
   "metadata": {},
   "outputs": [
    {
     "name": "stdout",
     "output_type": "stream",
     "text": [
      "70000 30000 70000 30000\n"
     ]
    }
   ],
   "source": [
    "X_train, X_test, y_train, y_test = \\\n",
    "                            train_test_split(data_prep.drop(columns='Survived'), \n",
    "                                             data_prep['Survived'], \n",
    "                                             train_size=0.70, \n",
    "                                             random_state=RANDOM_STATE\n",
    "                                            )\n",
    "\n",
    "print(X_train.shape[0], X_test.shape[0], y_train.shape[0], y_test.shape[0])"
   ]
  },
  {
   "cell_type": "code",
   "execution_count": 41,
   "metadata": {},
   "outputs": [
    {
     "name": "stdout",
     "output_type": "stream",
     "text": [
      "Лучшие параметры подобранные на 'сетке': {'splitter': 'best', 'criterion': 'gini', 'class_weight': {0: 0.3, 1: 0.7}, 'ccp_alpha': 0.1}\n",
      "\n",
      "Оценка accuracy на обучающей выборке: \u001b[94m\u001b[1m0.757\u001b[0m\n",
      "Оценка accuracy на тестовой выборке:  \u001b[91m\u001b[1m0.761\u001b[0m\n",
      "\n",
      "CPU times: total: 3.59 s\n",
      "Wall time: 27.2 s\n"
     ]
    }
   ],
   "source": [
    "%%time\n",
    "params = {   \n",
    "            'ccp_alpha': [x / 10 for x in range(1, 5)],\n",
    "            'class_weight': [{0: x / 10, 1: round(1 - x / 10, 1)} for x in range(1, 5)],\n",
    "            'criterion': ['gini'],\n",
    "#             'max_depth': [x for x in range(1, 10)],\n",
    "            'splitter': ['best']\n",
    "         }\n",
    "\n",
    "dtc = DecisionTreeClassifier()\n",
    "dtc_random = RandomizedSearchCV(estimator=dtc,\n",
    "                                param_distributions=params,\n",
    "                                n_iter=5,\n",
    "                                random_state=RANDOM_STATE,\n",
    "                                n_jobs=-1,\n",
    "                               )\n",
    "\n",
    "dtc_random.fit(X_train, y_train)\n",
    "print(f\"Лучшие параметры подобранные на 'сетке': {dtc_random.best_params_}\\n\")\n",
    "\n",
    "model = DecisionTreeClassifier(**dtc_random.best_params_)\n",
    "model.fit(X_train.values, y_train.values)\n",
    "\n",
    "train_score = round(accuracy_score(y_train, model.predict(X_train.values)), 3)\n",
    "print(f\"Оценка accuracy на обучающей выборке: {p('b',1)}{train_score}{p()}\")\n",
    "\n",
    "y_pred = model.predict(X_test.values)\n",
    "test_score = round(accuracy_score(y_test, y_pred), 3)\n",
    "print(f\"Оценка accuracy на тестовой выборке:  {p('r',1)}{test_score}{p()}\\n\")"
   ]
  },
  {
   "cell_type": "code",
   "execution_count": 42,
   "metadata": {},
   "outputs": [
    {
     "data": {
      "image/png": "[encoded data removed]",
      "text/plain": [
       "<Figure size 1152x432 with 1 Axes>"
      ]
     },
     "metadata": {},
     "output_type": "display_data"
    }
   ],
   "source": [
    "tree.plot_tree(model,\n",
    "               feature_names=data_prep.drop(columns='Survived').columns,\n",
    "               class_names=[\"Погиб\", \"Выжил\"],\n",
    "               filled=True\n",
    "              )\n",
    "plt.show()"
   ]
  },
  {
   "cell_type": "markdown",
   "metadata": {},
   "source": [
    "Is it easy to interpret its results? Are you able to explain to a random person why would they survive / die on the titanic?"
   ]
  },
  {
   "cell_type": "markdown",
   "metadata": {},
   "source": [
    "*****\n",
    "### `КОММЕНТАРИЙ`\n",
    ">Какая-то странная ситуация, в дереве только одно ветвление, но требование выполнено: **`test accuracy more than 0.65`**\n",
    ">\n",
    ">Проверим, а на самом ли деле одно это даст такое accuracy? **Сделаем предсказание в ручную по этим данным и рассчитаем accuracy**.\n",
    "*****\n"
   ]
  },
  {
   "cell_type": "code",
   "execution_count": 43,
   "metadata": {},
   "outputs": [
    {
     "name": "stdout",
     "output_type": "stream",
     "text": [
      "Оценка accuracy на обучающей выборке: \u001b[94m\u001b[1m0.757\u001b[0m\n",
      "Оценка accuracy на тестовой выборке:  \u001b[91m\u001b[1m0.761\u001b[0m\n",
      "\n"
     ]
    }
   ],
   "source": [
    "y_predict_by_hand = (X_train.Sex == 0) * 1\n",
    "train_score = round(accuracy_score(y_train, y_predict_by_hand), 3)\n",
    "print(f\"Оценка accuracy на обучающей выборке: {p('b',1)}{train_score}{p()}\")\n",
    "\n",
    "y_predict_by_hand = (X_test.Sex == 0) * 1\n",
    "test_score = round(accuracy_score(y_test, y_predict_by_hand), 3)\n",
    "print(f\"Оценка accuracy на тестовой выборке:  {p('r',1)}{test_score}{p()}\\n\")"
   ]
  },
  {
   "cell_type": "markdown",
   "metadata": {},
   "source": [
    "*****\n",
    "### `КОММЕНТАРИЙ`\n",
    ">И, действительно, исходя из этого очень просто достаточно достоверно предсказать выживаемость человека на Титанике, всего лишь, посмотрев на его пол в паспорте! ... но это только если этот человек **не** житель Европы или США, так как в случае с последними могут возникнуть сложности с половой идентификацией по данным паспорта ...\n",
    "*****\n"
   ]
  }
 ],
 "metadata": {
  "kernelspec": {
   "display_name": "Python 3 (ipykernel)",
   "language": "python",
   "name": "python3"
  },
  "language_info": {
   "codemirror_mode": {
    "name": "ipython",
    "version": 3
   },
   "file_extension": ".py",
   "mimetype": "text/x-python",
   "name": "python",
   "nbconvert_exporter": "python",
   "pygments_lexer": "ipython3",
   "version": "3.9.9"
  },
  "toc": {
   "base_numbering": 1,
   "nav_menu": {},
   "number_sections": true,
   "sideBar": true,
   "skip_h1_title": false,
   "title_cell": "Table of Contents",
   "title_sidebar": "Contents",
   "toc_cell": false,
   "toc_position": {
    "height": "calc(100% - 180px)",
    "left": "10px",
    "top": "150px",
    "width": "235px"
   },
   "toc_section_display": true,
   "toc_window_display": true
  }
 },
 "nbformat": 4,
 "nbformat_minor": 4
}
