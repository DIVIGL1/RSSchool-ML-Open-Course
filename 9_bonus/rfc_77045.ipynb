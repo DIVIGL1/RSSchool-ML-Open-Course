{
 "cells": [
  {
   "cell_type": "code",
   "execution_count": 1,
   "id": "67fd8921",
   "metadata": {},
   "outputs": [],
   "source": [
    "from sklearn.ensemble import RandomForestClassifier\n",
    "import pandas as pd"
   ]
  },
  {
   "cell_type": "code",
   "execution_count": 2,
   "id": "9ba3353f",
   "metadata": {},
   "outputs": [],
   "source": [
    "def get_datasets(dataset_path=\"data/train.csv\", test_data=False):\n",
    "    dataset = pd.read_csv(dataset_path)\n",
    "    if test_data:\n",
    "        dataset[\"Cover_Type\"] = 0\n",
    "        x_id = dataset[\"Id\"].copy(deep=True)\n",
    "    dataset.drop(\"Id\", axis=1, inplace=True)\n",
    "    features = dataset.drop(\"Cover_Type\", axis=1)\n",
    "    target = dataset[\"Cover_Type\"]\n",
    "    return (features, (target if not test_data else x_id))"
   ]
  },
  {
   "cell_type": "code",
   "execution_count": 3,
   "id": "83940c54",
   "metadata": {},
   "outputs": [],
   "source": [
    "# Формирование модели:\n",
    "mlmodel = RandomForestClassifier(n_jobs=-1, random_state=42).fit(*get_datasets())"
   ]
  },
  {
   "cell_type": "code",
   "execution_count": 4,
   "id": "7da0503b",
   "metadata": {
    "scrolled": true
   },
   "outputs": [],
   "source": [
    "# Предсказание:\n",
    "x_test, x_ids = get_datasets(dataset_path=\"data/test.csv\", test_data=True)\n",
    "# Получим сначала вероятности для каждого из классов:\n",
    "y_test = mlmodel.predict_proba(x_test)\n",
    "y_predict_proba = pd.DataFrame(y_test, index=x_ids)\n",
    "# Получим предсказания:\n",
    "y_test = mlmodel.predict(x_test)\n",
    "y_predict = pd.DataFrame(y_test, index=x_ids, columns=[\"Cover_Type\"])\n",
    "# Заменим те, что не очень \"явные\" на класс №2\n",
    "y_predict[y_predict_proba.max(axis=1) < 0.5] = 2"
   ]
  },
  {
   "cell_type": "code",
   "execution_count": 5,
   "id": "17e06590",
   "metadata": {},
   "outputs": [],
   "source": [
    "y_predict.to_csv(f\"data/rss_last_submission.csv\", index_label=\"Id\")"
   ]
  },
  {
   "cell_type": "markdown",
   "id": "93cf8ab1",
   "metadata": {},
   "source": [
    "![Скрин с kaggle](https://github.com/DIVIGL1/RSSchool-ML-Open-Course/blob/main/9_bonus/77045.PNG?raw=true \"0,77045\")"
   ]
  },
  {
   "cell_type": "markdown",
   "id": "eb4e4af7",
   "metadata": {},
   "source": [
    "****\n",
    "### Лучший результат\n",
    "Формально в этом бонусном задании **отсутствует** требование предоставить ноутбук с решением, поэтому выкладываю здесь скрин со своим лучшим результатом. Выложить решение не могу, так как использована новейшая и совершенно секретная NBIC-технология, которую запрещено разглашать.\n",
    "\n",
    "Но всё же привожу скрин с результатом загрузки данных с соотвествующего соревнования kaggle.\n",
    "\n",
    "Для тех кто заподозрит, что скрин поддельный и был подготовлен в каком-нибудь графическом редакторе, выкладываю в репозитории соответствующий файл с предсказанием (ссылка на него ниже) - можете загрузить и проверить самостоятельно."
   ]
  },
  {
   "cell_type": "markdown",
   "id": "3cba747a",
   "metadata": {},
   "source": [
    "![Скрин с kaggle](https://github.com/DIVIGL1/RSSchool-ML-Open-Course/blob/main/9_bonus/the_best_result.PNG?raw=true \"Лучший результат.\")"
   ]
  },
  {
   "cell_type": "markdown",
   "id": "af211600",
   "metadata": {},
   "source": [
    "Ссылка на файл с предсказанием:\n",
    "\n",
    "https://github.com/DIVIGL1/RSSchool-ML-Open-Course/blob/main/9_bonus/the_best_result.txt"
   ]
  }
 ],
 "metadata": {
  "kernelspec": {
   "display_name": "Python 3 (ipykernel)",
   "language": "python",
   "name": "python3"
  },
  "language_info": {
   "codemirror_mode": {
    "name": "ipython",
    "version": 3
   },
   "file_extension": ".py",
   "mimetype": "text/x-python",
   "name": "python",
   "nbconvert_exporter": "python",
   "pygments_lexer": "ipython3",
   "version": "3.9.9"
  }
 },
 "nbformat": 4,
 "nbformat_minor": 5
}
